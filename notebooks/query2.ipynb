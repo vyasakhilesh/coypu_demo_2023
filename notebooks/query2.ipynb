{
 "cells": [
  {
   "cell_type": "code",
   "execution_count": 1,
   "id": "75394514-8b89-4c8c-987c-3207f9c03d17",
   "metadata": {},
   "outputs": [
    {
     "name": "stdout",
     "output_type": "stream",
     "text": [
      "coypu.utils\n"
     ]
    }
   ],
   "source": [
    "import pandas as pd\n",
    "from coypu.utils.query import Query\n",
    "from coypu.utils.credentials import *\n",
    "from query.queries import *\n",
    "import plotly.express as px\n",
    "import plotly.io as pio\n",
    "pio.renderers.default = \"browser\"\n",
    "import matplotlib.pyplot as plt\n",
    "import numpy as np\n",
    "\n",
    "pd.options.display.max_rows = 999\n",
    "pd.options.display.max_columns = 999"
   ]
  },
  {
   "cell_type": "code",
   "execution_count": null,
   "id": "c87047ac-b265-460a-a20d-2b917e3fa4fd",
   "metadata": {},
   "outputs": [],
   "source": [
    "cmemc_query_imp = Query(client_url_imp, client_id_imp, client_secret_imp , 'oauth')\n",
    "    \n",
    "fuseki_infai = Query(fuseki_endpoint_infai, fuseki_user_infai, fuseki_pw_infai, 'basic')\n",
    "\n",
    "fdquery = Query(\"http://localhost:5002/sparql\", is_fdq=True)"
   ]
  },
  {
   "cell_type": "code",
   "execution_count": null,
   "id": "9e47c410-b348-4c1e-90cf-2abcd0aeef98",
   "metadata": {},
   "outputs": [],
   "source": [
    "print(query_2_fdq_desc)\n",
    "print(query_2_fdq)\n",
    "print('########################### EXAMPLE ##########################\\n{}'.format(query_2_fdq_ex))\n",
    "\n",
    "fdquery.post_query(query_2_fdq_ex)\n",
    "fdquery.to_save('../../query_results/', filename='query_2_fdq_ex')"
   ]
  },
  {
   "cell_type": "code",
   "execution_count": 3,
   "id": "11678928-c669-4d72-996a-af3e0c0723bf",
   "metadata": {},
   "outputs": [
    {
     "name": "stdout",
     "output_type": "stream",
     "text": [
      "Exeception: {} Table 'query_2_fdq_ex' already exists.\n"
     ]
    }
   ],
   "source": [
    "from sqlalchemy import create_engine\n",
    "\n",
    "engine = create_engine(\n",
    "        \"mysql+pymysql://{user}:{pw}@{hostname}:{portno}/{db}\".format(\n",
    "            hostname=host, db=dbname, user=uname, pw=pwd, portno=port\n",
    "        ),)\n",
    "\n",
    "df = pd.read_csv('../../query_results/query_2_fdq_ex.csv', encoding='utf-8')\n",
    "df.rename(columns=lambda x: x.replace('.value', ''), inplace=True)\n",
    "try:\n",
    "    df.to_sql('query_2_fdq_ex', con=engine, if_exists='fail', index=False)\n",
    "except Exception as e:\n",
    "    print('Exeception: {}',e)"
   ]
  },
  {
   "cell_type": "code",
   "execution_count": 4,
   "id": "6cc78219-5839-4489-840b-5011adf46853",
   "metadata": {},
   "outputs": [],
   "source": [
    "from sqlalchemy import create_engine\n",
    "\n",
    "engine = create_engine(\n",
    "        \"mysql+pymysql://{user}:{pw}@{hostname}:{portno}/{db}\".format(\n",
    "            hostname=host, db=dbname, user=uname, pw=pwd, portno=port))\n",
    "\n",
    "df = pd.read_sql(query_2_fdq_ex_sql, con=engine)\n",
    "\n",
    "df.to_csv('../../query_results/query_2_fdq_ex_sql.csv', encoding='utf-8', index=False)"
   ]
  },
  {
   "cell_type": "code",
   "execution_count": 2,
   "id": "ab400c3f-c92b-4b6e-b051-ef5530f75ddc",
   "metadata": {},
   "outputs": [
    {
     "data": {
      "text/html": [
       "<div>\n",
       "<style scoped>\n",
       "    .dataframe tbody tr th:only-of-type {\n",
       "        vertical-align: middle;\n",
       "    }\n",
       "\n",
       "    .dataframe tbody tr th {\n",
       "        vertical-align: top;\n",
       "    }\n",
       "\n",
       "    .dataframe thead th {\n",
       "        text-align: right;\n",
       "    }\n",
       "</style>\n",
       "<table border=\"1\" class=\"dataframe\">\n",
       "  <thead>\n",
       "    <tr style=\"text-align: right;\">\n",
       "      <th></th>\n",
       "      <th>country_code</th>\n",
       "      <th>country_name</th>\n",
       "      <th>year_WB</th>\n",
       "      <th>year_avg_exp_wiki</th>\n",
       "      <th>year_avg_exp_WB</th>\n",
       "      <th>WikiData-WB(AvgLifeExpectancy)</th>\n",
       "    </tr>\n",
       "  </thead>\n",
       "  <tbody>\n",
       "    <tr>\n",
       "      <th>0</th>\n",
       "      <td>IDN</td>\n",
       "      <td>Indonesia</td>\n",
       "      <td>1974</td>\n",
       "      <td>54.88300</td>\n",
       "      <td>54.8430</td>\n",
       "      <td>0.04000</td>\n",
       "    </tr>\n",
       "    <tr>\n",
       "      <th>1</th>\n",
       "      <td>IDN</td>\n",
       "      <td>Indonesia</td>\n",
       "      <td>1981</td>\n",
       "      <td>58.51550</td>\n",
       "      <td>58.4890</td>\n",
       "      <td>0.02650</td>\n",
       "    </tr>\n",
       "    <tr>\n",
       "      <th>2</th>\n",
       "      <td>TKM</td>\n",
       "      <td>Turkmenistan</td>\n",
       "      <td>2010</td>\n",
       "      <td>66.65700</td>\n",
       "      <td>66.6570</td>\n",
       "      <td>0.00000</td>\n",
       "    </tr>\n",
       "    <tr>\n",
       "      <th>3</th>\n",
       "      <td>TLS</td>\n",
       "      <td>Timor-Leste</td>\n",
       "      <td>2010</td>\n",
       "      <td>67.31300</td>\n",
       "      <td>67.1860</td>\n",
       "      <td>0.12700</td>\n",
       "    </tr>\n",
       "    <tr>\n",
       "      <th>4</th>\n",
       "      <td>TTO</td>\n",
       "      <td>Trinidad and Tobago</td>\n",
       "      <td>2010</td>\n",
       "      <td>69.75600</td>\n",
       "      <td>71.9460</td>\n",
       "      <td>2.19000</td>\n",
       "    </tr>\n",
       "    <tr>\n",
       "      <th>5</th>\n",
       "      <td>UGA</td>\n",
       "      <td>Uganda</td>\n",
       "      <td>2010</td>\n",
       "      <td>57.15300</td>\n",
       "      <td>57.0990</td>\n",
       "      <td>0.05400</td>\n",
       "    </tr>\n",
       "    <tr>\n",
       "      <th>6</th>\n",
       "      <td>UKR</td>\n",
       "      <td>Ukraine</td>\n",
       "      <td>2010</td>\n",
       "      <td>70.26537</td>\n",
       "      <td>70.2654</td>\n",
       "      <td>0.00003</td>\n",
       "    </tr>\n",
       "    <tr>\n",
       "      <th>7</th>\n",
       "      <td>UZB</td>\n",
       "      <td>Uzbekistan</td>\n",
       "      <td>2010</td>\n",
       "      <td>70.00500</td>\n",
       "      <td>69.6720</td>\n",
       "      <td>0.33300</td>\n",
       "    </tr>\n",
       "    <tr>\n",
       "      <th>8</th>\n",
       "      <td>VUT</td>\n",
       "      <td>Vanuatu</td>\n",
       "      <td>2010</td>\n",
       "      <td>70.72100</td>\n",
       "      <td>69.1230</td>\n",
       "      <td>1.59800</td>\n",
       "    </tr>\n",
       "    <tr>\n",
       "      <th>9</th>\n",
       "      <td>ZAF</td>\n",
       "      <td>South Africa</td>\n",
       "      <td>2010</td>\n",
       "      <td>55.88800</td>\n",
       "      <td>57.6690</td>\n",
       "      <td>1.78100</td>\n",
       "    </tr>\n",
       "  </tbody>\n",
       "</table>\n",
       "</div>"
      ],
      "text/plain": [
       "  country_code         country_name  year_WB  year_avg_exp_wiki  \\\n",
       "0          IDN            Indonesia     1974           54.88300   \n",
       "1          IDN            Indonesia     1981           58.51550   \n",
       "2          TKM         Turkmenistan     2010           66.65700   \n",
       "3          TLS          Timor-Leste     2010           67.31300   \n",
       "4          TTO  Trinidad and Tobago     2010           69.75600   \n",
       "5          UGA               Uganda     2010           57.15300   \n",
       "6          UKR              Ukraine     2010           70.26537   \n",
       "7          UZB           Uzbekistan     2010           70.00500   \n",
       "8          VUT              Vanuatu     2010           70.72100   \n",
       "9          ZAF         South Africa     2010           55.88800   \n",
       "\n",
       "   year_avg_exp_WB  WikiData-WB(AvgLifeExpectancy)  \n",
       "0          54.8430                         0.04000  \n",
       "1          58.4890                         0.02650  \n",
       "2          66.6570                         0.00000  \n",
       "3          67.1860                         0.12700  \n",
       "4          71.9460                         2.19000  \n",
       "5          57.0990                         0.05400  \n",
       "6          70.2654                         0.00003  \n",
       "7          69.6720                         0.33300  \n",
       "8          69.1230                         1.59800  \n",
       "9          57.6690                         1.78100  "
      ]
     },
     "execution_count": 2,
     "metadata": {},
     "output_type": "execute_result"
    }
   ],
   "source": [
    "df = pd.read_csv('../../query_results/query_2_fdq_ex_sql.csv', encoding='utf-8')\n",
    "\n",
    "df['WikiData-WB(AvgLifeExpectancy)'] = np.abs(df['year_avg_exp_wiki']-df['year_avg_exp_WB'])\n",
    "df.head(10)"
   ]
  },
  {
   "cell_type": "code",
   "execution_count": 3,
   "id": "aba806e4-b824-4401-b6dc-459dae4aba72",
   "metadata": {},
   "outputs": [],
   "source": [
    "import plotly.express as px\n",
    "fig = px.choropleth(df[df['year_WB']==2016], locations=\"country_code\",\n",
    "                    color=\"WikiData-WB(AvgLifeExpectancy)\", # lifeExp is a column of gapminder\n",
    "                    hover_name=\"country_name\", # column to add to hover information\n",
    "                    color_continuous_scale=px.colors.sequential.Magenta)\n",
    "fig.write_html('../../query_results/query_2_fdq_ex_sql.html')\n",
    "fig.show()"
   ]
  },
  {
   "cell_type": "code",
   "execution_count": null,
   "id": "92c4bf74-2811-4aa6-8f74-f2e39fedf608",
   "metadata": {},
   "outputs": [],
   "source": []
  }
 ],
 "metadata": {
  "kernelspec": {
   "display_name": "Python 3 (ipykernel)",
   "language": "python",
   "name": "python3"
  },
  "language_info": {
   "codemirror_mode": {
    "name": "ipython",
    "version": 3
   },
   "file_extension": ".py",
   "mimetype": "text/x-python",
   "name": "python",
   "nbconvert_exporter": "python",
   "pygments_lexer": "ipython3",
   "version": "3.9.13"
  }
 },
 "nbformat": 4,
 "nbformat_minor": 5
}
