{
 "cells": [
  {
   "cell_type": "raw",
   "id": "9f44cf57-366f-4544-85a2-3f39962f2a4f",
   "metadata": {},
   "source": [
    "%%bash\n",
    "# install python packages using requirements.txt file\n",
    "pip install -r ../requirements.txt"
   ]
  },
  {
   "cell_type": "code",
   "execution_count": 1,
   "id": "75394514-8b89-4c8c-987c-3207f9c03d17",
   "metadata": {},
   "outputs": [
    {
     "name": "stdout",
     "output_type": "stream",
     "text": [
      "\n"
     ]
    }
   ],
   "source": [
    "# Third party packages\n",
    "import pandas as pd\n",
    "import plotly.express as px\n",
    "import plotly.io as pio\n",
    "pio.renderers.default = \"browser\"\n",
    "import matplotlib.pyplot as plt\n",
    "from io import StringIO\n",
    "from IPython.display import display\n",
    "\n",
    "# Adding path\n",
    "from os.path import abspath\n",
    "import sys\n",
    "sys.path.insert(0, abspath('..'))\n",
    "\n",
    "# \n",
    "from query_request import *\n",
    "from query_def import *\n",
    "import credentials\n",
    "# from sqlalchemy import create_engine\n",
    "\n",
    "# pandas display settings\n",
    "pd.options.display.max_rows = 999\n",
    "pd.options.display.max_columns = 999\n",
    "pd.options.display.max_colwidth=None\n"
   ]
  },
  {
   "cell_type": "code",
   "execution_count": 2,
   "id": "30fcc3c8-f61f-47a2-ba6b-c22b32ba8471",
   "metadata": {},
   "outputs": [],
   "source": [
    "# Demo for LDM\n",
    "\n",
    "# Upload dataset\n",
    "# downlaod dataset"
   ]
  },
  {
   "cell_type": "code",
   "execution_count": 3,
   "id": "0ea0cecb-4073-4abd-8ec8-2871e021ccb6",
   "metadata": {},
   "outputs": [],
   "source": [
    "# Demo for dragoman"
   ]
  },
  {
   "cell_type": "raw",
   "id": "311373a2-2f6a-4367-b495-cda58b9e7319",
   "metadata": {},
   "source": [
    "%%time\n",
    "# for transforming datset into Knowlege graphs using SDM-RDFizer python library\n",
    "from rdfizer.semantify import semantify\n",
    "semantify('../configs/config.ini')"
   ]
  },
  {
   "cell_type": "markdown",
   "id": "1c41a72e-10a9-4b29-a5b2-8bc66c99489c",
   "metadata": {},
   "source": [
    "# [Creating Endpoint](../configs/docker_command_icews.sh)"
   ]
  },
  {
   "cell_type": "raw",
   "id": "a680b523-95d1-4a0e-ac43-fb06754c66c1",
   "metadata": {},
   "source": [
    "%%bash\n",
    "# if you have access to TIB server execute this cell\n",
    "# load data to triple store\n",
    "# copy data to server\n",
    "rsync -avP ../kgdata/icews.nt node2:/data/coypu/icews_endpoint/data_load\n",
    "\n",
    "# create endpoint on server\n",
    "scp ../configs/docker_command_icews.sh node2:/data/coypu/icews_endpoint/\n",
    "ssh node2 'cd /data/coypu/lei_endpoint/ && ./docker_command_lei.sh >out 2>error &'"
   ]
  },
  {
   "cell_type": "code",
   "execution_count": 4,
   "id": "2ae35b81-d235-44c2-8160-6ba7faaf11ec",
   "metadata": {},
   "outputs": [
    {
     "name": "stdout",
     "output_type": "stream",
     "text": [
      "Total time taken by dictfrmjson function: 5.459785461425781e-05\n",
      "{'https://labs.tib.eu/sdm/worldbank_endpoint/sparql': {}, 'https://labs.tib.eu/sdm/icews_endpoint/sparql': {}, 'https://labs.tib.eu/sdm/lei_endpoint/sparql': {}, 'https://skynet.coypu.org/coypu-internal': {'username': 'Your UserName', 'password': 'Your Password'}}\n"
     ]
    }
   ],
   "source": [
    "# create rdfmts\n",
    "from DeTrusty import run_query\n",
    "from DeTrusty.Molecule.MTCreation import create_rdfmts\n",
    "from DeTrusty.Molecule.MTManager import ConfigFile\n",
    "\n",
    "# Creating endpoints dictionary\n",
    "endpoints = dictfrmjson('../configs/endpoints_sample.json')\n",
    "print(endpoints)\n",
    "\n",
    "# Creating RDF molecule template (rdfmts) from endpoints\n",
    "# log_rdfmts = create_rdfmts(endpoints, '../configs/rdfmts.json')\n",
    "\n",
    "# if already rdfmts has been created \n",
    "config_private = ConfigFile('../configs/rdfmts_private.json')\n",
    "config_public = ConfigFile('../configs/rdfmts_public.json')"
   ]
  },
  {
   "cell_type": "markdown",
   "id": "b2561813-85b1-4d4f-992a-f16d4b37fb7c",
   "metadata": {},
   "source": [
    "## Endpoints Status"
   ]
  },
  {
   "cell_type": "code",
   "execution_count": 5,
   "id": "c87047ac-b265-460a-a20d-2b917e3fa4fd",
   "metadata": {},
   "outputs": [
    {
     "data": {
      "text/plain": [
       "'############### Cmemc Endpoint ###############'"
      ]
     },
     "metadata": {},
     "output_type": "display_data"
    },
    {
     "name": "stdout",
     "output_type": "stream",
     "text": [
      "Passed Query Status: 200\n",
      "Total time taken by execute function: 0.7718029022216797\n"
     ]
    },
    {
     "data": {
      "text/html": [
       "<div>\n",
       "<style scoped>\n",
       "    .dataframe tbody tr th:only-of-type {\n",
       "        vertical-align: middle;\n",
       "    }\n",
       "\n",
       "    .dataframe tbody tr th {\n",
       "        vertical-align: top;\n",
       "    }\n",
       "\n",
       "    .dataframe thead th {\n",
       "        text-align: right;\n",
       "    }\n",
       "</style>\n",
       "<table border=\"1\" class=\"dataframe\">\n",
       "  <thead>\n",
       "    <tr style=\"text-align: right;\">\n",
       "      <th></th>\n",
       "      <th>Subject</th>\n",
       "      <th>Concept</th>\n",
       "    </tr>\n",
       "  </thead>\n",
       "  <tbody>\n",
       "    <tr>\n",
       "      <th>995</th>\n",
       "      <td>https://vocab.eccenca.com/shacl/GraphTemplateJinjaTemplatePropertyShape</td>\n",
       "      <td>http://www.w3.org/2000/01/rdf-schema#Resource</td>\n",
       "    </tr>\n",
       "    <tr>\n",
       "      <th>996</th>\n",
       "      <td>https://vocab.eccenca.com/shacl/GraphTemplateJinjaTemplatePropertyShape</td>\n",
       "      <td>http://www.w3.org/ns/shacl#PropertyShape</td>\n",
       "    </tr>\n",
       "    <tr>\n",
       "      <th>997</th>\n",
       "      <td>https://vocab.eccenca.com/shui/jinjaTemplateString</td>\n",
       "      <td>http://www.w3.org/1999/02/22-rdf-syntax-ns#Property</td>\n",
       "    </tr>\n",
       "    <tr>\n",
       "      <th>998</th>\n",
       "      <td>https://vocab.eccenca.com/shui/jinjaTemplateString</td>\n",
       "      <td>http://www.w3.org/2000/01/rdf-schema#Resource</td>\n",
       "    </tr>\n",
       "    <tr>\n",
       "      <th>999</th>\n",
       "      <td>https://vocab.eccenca.com/shui/jinjaTemplateString</td>\n",
       "      <td>http://www.w3.org/2002/07/owl#DatatypeProperty</td>\n",
       "    </tr>\n",
       "  </tbody>\n",
       "</table>\n",
       "</div>"
      ],
      "text/plain": [
       "                                                                     Subject  \\\n",
       "995  https://vocab.eccenca.com/shacl/GraphTemplateJinjaTemplatePropertyShape   \n",
       "996  https://vocab.eccenca.com/shacl/GraphTemplateJinjaTemplatePropertyShape   \n",
       "997                       https://vocab.eccenca.com/shui/jinjaTemplateString   \n",
       "998                       https://vocab.eccenca.com/shui/jinjaTemplateString   \n",
       "999                       https://vocab.eccenca.com/shui/jinjaTemplateString   \n",
       "\n",
       "                                                 Concept  \n",
       "995        http://www.w3.org/2000/01/rdf-schema#Resource  \n",
       "996             http://www.w3.org/ns/shacl#PropertyShape  \n",
       "997  http://www.w3.org/1999/02/22-rdf-syntax-ns#Property  \n",
       "998        http://www.w3.org/2000/01/rdf-schema#Resource  \n",
       "999       http://www.w3.org/2002/07/owl#DatatypeProperty  "
      ]
     },
     "metadata": {},
     "output_type": "display_data"
    },
    {
     "data": {
      "text/plain": [
       "'############### Skynet Endpoint ###############'"
      ]
     },
     "metadata": {},
     "output_type": "display_data"
    },
    {
     "name": "stdout",
     "output_type": "stream",
     "text": [
      "Passed Query Status: 200\n",
      "Total time taken by execute function: 0.16899585723876953\n"
     ]
    },
    {
     "data": {
      "text/html": [
       "<div>\n",
       "<style scoped>\n",
       "    .dataframe tbody tr th:only-of-type {\n",
       "        vertical-align: middle;\n",
       "    }\n",
       "\n",
       "    .dataframe tbody tr th {\n",
       "        vertical-align: top;\n",
       "    }\n",
       "\n",
       "    .dataframe thead th {\n",
       "        text-align: right;\n",
       "    }\n",
       "</style>\n",
       "<table border=\"1\" class=\"dataframe\">\n",
       "  <thead>\n",
       "    <tr style=\"text-align: right;\">\n",
       "      <th></th>\n",
       "      <th>Subject</th>\n",
       "      <th>Concept</th>\n",
       "    </tr>\n",
       "  </thead>\n",
       "  <tbody>\n",
       "    <tr>\n",
       "      <th>995</th>\n",
       "      <td>https://data.coypu.org/lei/8156000353C9ABA3F689-VAL</td>\n",
       "      <td>https://www.gleif.org/ontology/L1/BusinessValidationIdentifier</td>\n",
       "    </tr>\n",
       "    <tr>\n",
       "      <th>996</th>\n",
       "      <td>https://data.coypu.org/lei/815600D55096AE766623-VAL</td>\n",
       "      <td>https://www.gleif.org/ontology/L1/BusinessValidationIdentifier</td>\n",
       "    </tr>\n",
       "    <tr>\n",
       "      <th>997</th>\n",
       "      <td>https://data.coypu.org/lei/335800Y4N8RGXM1GO884-VAL</td>\n",
       "      <td>https://www.gleif.org/ontology/L1/BusinessValidationIdentifier</td>\n",
       "    </tr>\n",
       "    <tr>\n",
       "      <th>998</th>\n",
       "      <td>https://data.coypu.org/lei/81560018EC9F4A988702-VAL</td>\n",
       "      <td>https://www.gleif.org/ontology/L1/BusinessValidationIdentifier</td>\n",
       "    </tr>\n",
       "    <tr>\n",
       "      <th>999</th>\n",
       "      <td>https://data.coypu.org/lei/969500EJTC0A46FJSZ16-VAL</td>\n",
       "      <td>https://www.gleif.org/ontology/L1/BusinessValidationIdentifier</td>\n",
       "    </tr>\n",
       "  </tbody>\n",
       "</table>\n",
       "</div>"
      ],
      "text/plain": [
       "                                                 Subject  \\\n",
       "995  https://data.coypu.org/lei/8156000353C9ABA3F689-VAL   \n",
       "996  https://data.coypu.org/lei/815600D55096AE766623-VAL   \n",
       "997  https://data.coypu.org/lei/335800Y4N8RGXM1GO884-VAL   \n",
       "998  https://data.coypu.org/lei/81560018EC9F4A988702-VAL   \n",
       "999  https://data.coypu.org/lei/969500EJTC0A46FJSZ16-VAL   \n",
       "\n",
       "                                                            Concept  \n",
       "995  https://www.gleif.org/ontology/L1/BusinessValidationIdentifier  \n",
       "996  https://www.gleif.org/ontology/L1/BusinessValidationIdentifier  \n",
       "997  https://www.gleif.org/ontology/L1/BusinessValidationIdentifier  \n",
       "998  https://www.gleif.org/ontology/L1/BusinessValidationIdentifier  \n",
       "999  https://www.gleif.org/ontology/L1/BusinessValidationIdentifier  "
      ]
     },
     "metadata": {},
     "output_type": "display_data"
    },
    {
     "data": {
      "text/plain": [
       "'############### Worldbank Endpoint ###############'"
      ]
     },
     "metadata": {},
     "output_type": "display_data"
    },
    {
     "name": "stdout",
     "output_type": "stream",
     "text": [
      "Passed Query Status: 200\n",
      "Total time taken by execute function: 0.1849379539489746\n"
     ]
    },
    {
     "data": {
      "text/plain": [
       "200"
      ]
     },
     "metadata": {},
     "output_type": "display_data"
    },
    {
     "data": {
      "text/html": [
       "<div>\n",
       "<style scoped>\n",
       "    .dataframe tbody tr th:only-of-type {\n",
       "        vertical-align: middle;\n",
       "    }\n",
       "\n",
       "    .dataframe tbody tr th {\n",
       "        vertical-align: top;\n",
       "    }\n",
       "\n",
       "    .dataframe thead th {\n",
       "        text-align: right;\n",
       "    }\n",
       "</style>\n",
       "<table border=\"1\" class=\"dataframe\">\n",
       "  <thead>\n",
       "    <tr style=\"text-align: right;\">\n",
       "      <th></th>\n",
       "      <th>Subject</th>\n",
       "      <th>Concept</th>\n",
       "    </tr>\n",
       "  </thead>\n",
       "  <tbody>\n",
       "    <tr>\n",
       "      <th>995</th>\n",
       "      <td>http://worldbank.org/Indicator/SH.HIV.ARTC.ZS</td>\n",
       "      <td>http://worldbank.org/Indicator</td>\n",
       "    </tr>\n",
       "    <tr>\n",
       "      <th>996</th>\n",
       "      <td>http://worldbank.org/Indicator/SH.HIV.INCD</td>\n",
       "      <td>http://worldbank.org/Indicator</td>\n",
       "    </tr>\n",
       "    <tr>\n",
       "      <th>997</th>\n",
       "      <td>http://worldbank.org/Indicator/SH.HIV.INCD.14</td>\n",
       "      <td>http://worldbank.org/Indicator</td>\n",
       "    </tr>\n",
       "    <tr>\n",
       "      <th>998</th>\n",
       "      <td>http://worldbank.org/Indicator/SH.HIV.INCD.TL</td>\n",
       "      <td>http://worldbank.org/Indicator</td>\n",
       "    </tr>\n",
       "    <tr>\n",
       "      <th>999</th>\n",
       "      <td>http://worldbank.org/Indicator/SH.HIV.INCD.TL.P3</td>\n",
       "      <td>http://worldbank.org/Indicator</td>\n",
       "    </tr>\n",
       "  </tbody>\n",
       "</table>\n",
       "</div>"
      ],
      "text/plain": [
       "                                              Subject  \\\n",
       "995     http://worldbank.org/Indicator/SH.HIV.ARTC.ZS   \n",
       "996        http://worldbank.org/Indicator/SH.HIV.INCD   \n",
       "997     http://worldbank.org/Indicator/SH.HIV.INCD.14   \n",
       "998     http://worldbank.org/Indicator/SH.HIV.INCD.TL   \n",
       "999  http://worldbank.org/Indicator/SH.HIV.INCD.TL.P3   \n",
       "\n",
       "                            Concept  \n",
       "995  http://worldbank.org/Indicator  \n",
       "996  http://worldbank.org/Indicator  \n",
       "997  http://worldbank.org/Indicator  \n",
       "998  http://worldbank.org/Indicator  \n",
       "999  http://worldbank.org/Indicator  "
      ]
     },
     "metadata": {},
     "output_type": "display_data"
    },
    {
     "data": {
      "text/plain": [
       "'############### LEI Endpoint ###############'"
      ]
     },
     "metadata": {},
     "output_type": "display_data"
    },
    {
     "name": "stdout",
     "output_type": "stream",
     "text": [
      "Passed Query Status: 200\n",
      "Total time taken by execute function: 0.15626287460327148\n"
     ]
    },
    {
     "data": {
      "text/html": [
       "<div>\n",
       "<style scoped>\n",
       "    .dataframe tbody tr th:only-of-type {\n",
       "        vertical-align: middle;\n",
       "    }\n",
       "\n",
       "    .dataframe tbody tr th {\n",
       "        vertical-align: top;\n",
       "    }\n",
       "\n",
       "    .dataframe thead th {\n",
       "        text-align: right;\n",
       "    }\n",
       "</style>\n",
       "<table border=\"1\" class=\"dataframe\">\n",
       "  <thead>\n",
       "    <tr style=\"text-align: right;\">\n",
       "      <th></th>\n",
       "      <th>Subject</th>\n",
       "      <th>Concept</th>\n",
       "    </tr>\n",
       "  </thead>\n",
       "  <tbody>\n",
       "    <tr>\n",
       "      <th>995</th>\n",
       "      <td>https://data.coypu.org/lei/2138006HHBEMF1TGWU29-LA</td>\n",
       "      <td>https://www.gleif.org/ontology/Base/PhysicalAddress</td>\n",
       "    </tr>\n",
       "    <tr>\n",
       "      <th>996</th>\n",
       "      <td>https://data.coypu.org/lei/2138006HHUG8LC4UD387-LA</td>\n",
       "      <td>https://www.gleif.org/ontology/Base/PhysicalAddress</td>\n",
       "    </tr>\n",
       "    <tr>\n",
       "      <th>997</th>\n",
       "      <td>https://data.coypu.org/lei/2138006HHXWLEK5WVK02-LA</td>\n",
       "      <td>https://www.gleif.org/ontology/Base/PhysicalAddress</td>\n",
       "    </tr>\n",
       "    <tr>\n",
       "      <th>998</th>\n",
       "      <td>https://data.coypu.org/lei/2138006HI1P4JTM2WM22-LA</td>\n",
       "      <td>https://www.gleif.org/ontology/Base/PhysicalAddress</td>\n",
       "    </tr>\n",
       "    <tr>\n",
       "      <th>999</th>\n",
       "      <td>https://data.coypu.org/lei/2138006HI5AF5E1P4T95-LA</td>\n",
       "      <td>https://www.gleif.org/ontology/Base/PhysicalAddress</td>\n",
       "    </tr>\n",
       "  </tbody>\n",
       "</table>\n",
       "</div>"
      ],
      "text/plain": [
       "                                                Subject  \\\n",
       "995  https://data.coypu.org/lei/2138006HHBEMF1TGWU29-LA   \n",
       "996  https://data.coypu.org/lei/2138006HHUG8LC4UD387-LA   \n",
       "997  https://data.coypu.org/lei/2138006HHXWLEK5WVK02-LA   \n",
       "998  https://data.coypu.org/lei/2138006HI1P4JTM2WM22-LA   \n",
       "999  https://data.coypu.org/lei/2138006HI5AF5E1P4T95-LA   \n",
       "\n",
       "                                                 Concept  \n",
       "995  https://www.gleif.org/ontology/Base/PhysicalAddress  \n",
       "996  https://www.gleif.org/ontology/Base/PhysicalAddress  \n",
       "997  https://www.gleif.org/ontology/Base/PhysicalAddress  \n",
       "998  https://www.gleif.org/ontology/Base/PhysicalAddress  \n",
       "999  https://www.gleif.org/ontology/Base/PhysicalAddress  "
      ]
     },
     "metadata": {},
     "output_type": "display_data"
    },
    {
     "data": {
      "text/plain": [
       "'############### ICEWS Endpoint ###############'"
      ]
     },
     "metadata": {},
     "output_type": "display_data"
    },
    {
     "name": "stdout",
     "output_type": "stream",
     "text": [
      "Passed Query Status: 200\n",
      "Total time taken by execute function: 0.15753841400146484\n"
     ]
    },
    {
     "data": {
      "text/html": [
       "<div>\n",
       "<style scoped>\n",
       "    .dataframe tbody tr th:only-of-type {\n",
       "        vertical-align: middle;\n",
       "    }\n",
       "\n",
       "    .dataframe tbody tr th {\n",
       "        vertical-align: top;\n",
       "    }\n",
       "\n",
       "    .dataframe thead th {\n",
       "        text-align: right;\n",
       "    }\n",
       "</style>\n",
       "<table border=\"1\" class=\"dataframe\">\n",
       "  <thead>\n",
       "    <tr style=\"text-align: right;\">\n",
       "      <th></th>\n",
       "      <th>Subject</th>\n",
       "      <th>Concept</th>\n",
       "    </tr>\n",
       "  </thead>\n",
       "  <tbody>\n",
       "    <tr>\n",
       "      <th>995</th>\n",
       "      <td>https://data.coypu.org/icews/36616020</td>\n",
       "      <td>https://schema.coypu.org/global#Conflict</td>\n",
       "    </tr>\n",
       "    <tr>\n",
       "      <th>996</th>\n",
       "      <td>https://data.coypu.org/icews/36616021</td>\n",
       "      <td>https://schema.coypu.org/global#Conflict</td>\n",
       "    </tr>\n",
       "    <tr>\n",
       "      <th>997</th>\n",
       "      <td>https://data.coypu.org/icews/36616024</td>\n",
       "      <td>https://schema.coypu.org/global#Conflict</td>\n",
       "    </tr>\n",
       "    <tr>\n",
       "      <th>998</th>\n",
       "      <td>https://data.coypu.org/icews/36616025</td>\n",
       "      <td>https://schema.coypu.org/global#Conflict</td>\n",
       "    </tr>\n",
       "    <tr>\n",
       "      <th>999</th>\n",
       "      <td>https://data.coypu.org/icews/36616026</td>\n",
       "      <td>https://schema.coypu.org/global#Conflict</td>\n",
       "    </tr>\n",
       "  </tbody>\n",
       "</table>\n",
       "</div>"
      ],
      "text/plain": [
       "                                   Subject  \\\n",
       "995  https://data.coypu.org/icews/36616020   \n",
       "996  https://data.coypu.org/icews/36616021   \n",
       "997  https://data.coypu.org/icews/36616024   \n",
       "998  https://data.coypu.org/icews/36616025   \n",
       "999  https://data.coypu.org/icews/36616026   \n",
       "\n",
       "                                      Concept  \n",
       "995  https://schema.coypu.org/global#Conflict  \n",
       "996  https://schema.coypu.org/global#Conflict  \n",
       "997  https://schema.coypu.org/global#Conflict  \n",
       "998  https://schema.coypu.org/global#Conflict  \n",
       "999  https://schema.coypu.org/global#Conflict  "
      ]
     },
     "metadata": {},
     "output_type": "display_data"
    }
   ],
   "source": [
    "# Demo query to all available enpoints\n",
    "\n",
    "# demo query\n",
    "query_test = \"\"\"SELECT * WHERE{ ?Subject a ?Concept }LIMIT 1000\"\"\"\n",
    "\n",
    "\n",
    "# creating request for cmemc\n",
    "display(\"############### Cmemc Endpoint ###############\")\n",
    "cmemc_request = SPARQLRequest(client_url_imp, client_id_imp, client_secret_imp , 'oauth')\n",
    "# executing query and printing response\n",
    "cmemc_request.execute(query_test)\n",
    "buf = StringIO(cmemc_request.response.content.decode('utf-8'), newline='\\r\\n')          \n",
    "display(pd.read_csv(buf, encoding='utf-8').tail(5))\n",
    "\n",
    "# creating request for skynet\n",
    "display(\"############### Skynet Endpoint ###############\")\n",
    "skynet_request = SPARQLRequest(skynet_endpoint, skynet_user, skynet_pass, 'basic')\n",
    "# executing query and printing response\n",
    "skynet_request.execute(query_test)\n",
    "buf = StringIO(skynet_request.response.content.decode('utf-8'), newline='\\r\\n')          \n",
    "display(pd.read_csv(buf, encoding='utf-8').tail(5))\n",
    "\n",
    "# creating request for worldbank\n",
    "display(\"############### Worldbank Endpoint ###############\")\n",
    "worldbank_request = SPARQLRequest(worldbank_endpoint)\n",
    "# executing query and printing response\n",
    "worldbank_request.execute(query_test)\n",
    "display(worldbank_request.response.status_code)\n",
    "buf = StringIO(worldbank_request.response.content.decode('utf-8'), newline='\\r\\n')          \n",
    "display(pd.read_csv(buf, encoding='utf-8').tail(5))\n",
    "\n",
    "# creating request for LEI\n",
    "display(\"############### LEI Endpoint ###############\")\n",
    "lei_request = SPARQLRequest(lei_endpoint)\n",
    "# executing query and printing response\n",
    "lei_request.execute(query_test)\n",
    "buf = StringIO(lei_request.response.content.decode('utf-8'), newline='\\r\\n')          \n",
    "display(pd.read_csv(buf, encoding='utf-8').tail(5))\n",
    "\n",
    "# creating request for ICEWS\n",
    "display(\"############### ICEWS Endpoint ###############\")\n",
    "icews_request = SPARQLRequest(icews_endpoint)\n",
    "# executing query and printing response\n",
    "icews_request.execute(query_test)\n",
    "buf = StringIO(icews_request.response.content.decode('utf-8'), newline='\\r\\n')          \n",
    "display(pd.read_csv(buf, encoding='utf-8').tail(5))\n"
   ]
  },
  {
   "cell_type": "markdown",
   "id": "3b610e0f-a2e6-43dc-a755-ec47c352c4c1",
   "metadata": {},
   "source": [
    "## Federated Query"
   ]
  },
  {
   "cell_type": "code",
   "execution_count": 6,
   "id": "849bcb53-a494-41a0-847b-7e2d58015579",
   "metadata": {},
   "outputs": [
    {
     "data": {
      "text/plain": [
       "'############### Federated Query ###############'"
      ]
     },
     "metadata": {},
     "output_type": "display_data"
    },
    {
     "name": "stderr",
     "output_type": "stream",
     "text": [
      "2022-12-03 00:25:09,582 - DeTrusty.Wrapper.RDFWrapper - INFO - Contacting endpoint: https://labs.tib.eu/sdm/worldbank_endpoint/sparql\n",
      "2022-12-03 00:25:09,588 - DeTrusty.Wrapper.RDFWrapper - INFO - Contacting endpoint: https://dbpedia.org/sparql\n",
      "2022-12-03 00:25:09,591 - DeTrusty.Wrapper.RDFWrapper - INFO - Contacting endpoint: https://query.wikidata.org/sparql\n",
      "2022-12-03 00:25:09,604 - DeTrusty.Wrapper.RDFWrapper - INFO - Contacting endpoint: https://labs.tib.eu/sdm/lei_endpoint/sparql/\n",
      "2022-12-03 00:25:09,611 - DeTrusty.Wrapper.RDFWrapper - INFO - Contacting endpoint: https://labs.tib.eu/sdm/icews_endpoint/sparql/\n"
     ]
    },
    {
     "name": "stdout",
     "output_type": "stream",
     "text": [
      "Total time taken by execute function: 1.3112115859985352\n",
      "Index                    128\n",
      "Subject.value           8000\n",
      "Subject.type            8000\n",
      "Concept.value           8000\n",
      "Concept.type            8000\n",
      "__meta__.is_verified    1000\n",
      "dtype: int64\n",
      "<class 'pandas.core.frame.DataFrame'>\n",
      "RangeIndex: 1000 entries, 0 to 999\n",
      "Data columns (total 5 columns):\n",
      " #   Column                Non-Null Count  Dtype \n",
      "---  ------                --------------  ----- \n",
      " 0   Subject.value         1000 non-null   object\n",
      " 1   Subject.type          1000 non-null   object\n",
      " 2   Concept.value         1000 non-null   object\n",
      " 3   Concept.type          1000 non-null   object\n",
      " 4   __meta__.is_verified  1000 non-null   bool  \n",
      "dtypes: bool(1), object(4)\n",
      "memory usage: 32.4+ KB\n",
      "None\n",
      "Total time taken by json_to_csv function: 0.036043405532836914\n",
      "Total time taken by save function: 0.036505937576293945\n"
     ]
    },
    {
     "name": "stderr",
     "output_type": "stream",
     "text": [
      "2022-12-03 00:29:13,636 - DeTrusty.Wrapper.RDFWrapper - ERROR - Exception while sending request to https://dbpedia.org/sparql - msg: <urlopen error [Errno 101] Network is unreachable> - query: SELECT ?Subject ?Concept WHERE {\n",
      "        ?Subject <http://www.w3.org/1999/02/22-rdf-syntax-ns#type> ?Concept\n",
      "\n",
      "} LIMIT 10000 OFFSET 1350000\n"
     ]
    }
   ],
   "source": [
    "# creating request for Federated Query\n",
    "display(\"############### Federated Query ###############\")\n",
    "fdq_request = SPARQLRequest(is_fdq=True)\n",
    "fdq_request.execute(query_test, config_public, False)\n",
    "fdq_request.save('../query_results/', 'query_test')"
   ]
  },
  {
   "cell_type": "code",
   "execution_count": null,
   "id": "9e47c410-b348-4c1e-90cf-2abcd0aeef98",
   "metadata": {},
   "outputs": [
    {
     "name": "stdout",
     "output_type": "stream",
     "text": [
      "\n",
      "PREFIX coy: <https://schema.coypu.org/global#>\n",
      "PREFIX rdfs: <http://www.w3.org/2000/01/rdf-schema#>\n",
      "PREFIX xsd: <http://www.w3.org/2001/XMLSchema#>\n",
      "PREFIX owl: <http://www.w3.org/2002/07/owl#>\n",
      "PREFIX skos: <http://www.w3.org/2004/02/skos/core#>\n",
      "PREFIX time: <http://www.w3.org/2006/time#>\n",
      "\n",
      "PREFIX wd: <http://www.wikidata.org/entity/>\n",
      "PREFIX wds: <http://www.wikidata.org/entity/statement/>\n",
      "PREFIX wdv: <http://www.wikidata.org/value/>\n",
      "PREFIX wdt: <http://www.wikidata.org/prop/direct/>\n",
      "PREFIX wikibase: <http://wikiba.se/ontology#>\n",
      "PREFIX p: <http://www.wikidata.org/prop/>\n",
      "PREFIX ps: <http://www.wikidata.org/prop/statement/>\n",
      "PREFIX pq: <http://www.wikidata.org/prop/qualifier/>\n",
      "PREFIX bd: <http://www.bigdata.com/rdf#>\n",
      "\n",
      "SELECT ?isoCode ?year (COUNT(?iri) AS ?no_of_events) \n",
      "WHERE {\n",
      "    ?iri a coy:AcledEvent .\n",
      "    ?iri coy:hasIsoCode 'IDN' .\n",
      "    ?iri coy:hasTimestamp ?timestamp .\n",
      "    ?iri coy:hasFatalities ?fatalities .\n",
      "    BIND(year(?timestamp) as ?year)\n",
      "\n",
      "    ?countryWiki p:P298 ?isoCode .\n",
      "    ?isoCode ps:P298 'IDN' .\n",
      "    ?countryWiki p:P1082 ?itemP .\n",
      "    ?itemP pq:P585 ?time .\n",
      "    ?itemP ps:P1082 ?population .\n",
      "    BIND(year(?time) as ?year)\n",
      "}\n",
      "GROUP BY ?year ?isocode\n",
      "\n"
     ]
    },
    {
     "name": "stderr",
     "output_type": "stream",
     "text": [
      "Process Process-3:1:2:\n",
      "Traceback (most recent call last):\n",
      "  File \"/home/tibvyasa/miniconda3/envs/coypu_demo/lib/python3.10/multiprocessing/process.py\", line 314, in _bootstrap\n",
      "    self.run()\n",
      "  File \"/home/tibvyasa/miniconda3/envs/coypu_demo/lib/python3.10/multiprocessing/process.py\", line 108, in run\n",
      "    self._target(*self._args, **self._kwargs)\n",
      "  File \"/home/tibvyasa/miniconda3/envs/coypu_demo/lib/python3.10/site-packages/DeTrusty/Operators/AnapsidOperators/Xbind.py\", line 70, in execute\n",
      "    b_value = self.bind.term\n",
      "Process Process-3:1:1:2:\n",
      "Traceback (most recent call last):\n",
      "  File \"/home/tibvyasa/miniconda3/envs/coypu_demo/lib/python3.10/multiprocessing/process.py\", line 314, in _bootstrap\n",
      "    self.run()\n",
      "AttributeError: 'Bind' object has no attribute 'term'\n",
      "  File \"/home/tibvyasa/miniconda3/envs/coypu_demo/lib/python3.10/multiprocessing/process.py\", line 108, in run\n",
      "    self._target(*self._args, **self._kwargs)\n",
      "  File \"/home/tibvyasa/miniconda3/envs/coypu_demo/lib/python3.10/site-packages/DeTrusty/Operators/AnapsidOperators/Xbind.py\", line 70, in execute\n",
      "    b_value = self.bind.term\n",
      "AttributeError: 'Bind' object has no attribute 'term'\n",
      "Process Process-3:1:1:1:1:2:\n",
      "Traceback (most recent call last):\n",
      "  File \"/home/tibvyasa/miniconda3/envs/coypu_demo/lib/python3.10/multiprocessing/process.py\", line 314, in _bootstrap\n",
      "    self.run()\n",
      "  File \"/home/tibvyasa/miniconda3/envs/coypu_demo/lib/python3.10/multiprocessing/process.py\", line 108, in run\n",
      "    self._target(*self._args, **self._kwargs)\n",
      "Process Process-3:1:1:1:1:1:2:\n",
      "Traceback (most recent call last):\n",
      "  File \"/home/tibvyasa/miniconda3/envs/coypu_demo/lib/python3.10/multiprocessing/process.py\", line 314, in _bootstrap\n",
      "    self.run()\n",
      "  File \"/home/tibvyasa/miniconda3/envs/coypu_demo/lib/python3.10/multiprocessing/process.py\", line 108, in run\n",
      "    self._target(*self._args, **self._kwargs)\n",
      "  File \"/home/tibvyasa/miniconda3/envs/coypu_demo/lib/python3.10/site-packages/DeTrusty/Operators/AnapsidOperators/Xbind.py\", line 70, in execute\n",
      "    b_value = self.bind.term\n",
      "  File \"/home/tibvyasa/miniconda3/envs/coypu_demo/lib/python3.10/site-packages/DeTrusty/Operators/AnapsidOperators/Xbind.py\", line 70, in execute\n",
      "    b_value = self.bind.term\n",
      "AttributeError: 'Bind' object has no attribute 'term'\n",
      "Process Process-3:1:1:1:1:1:1:1:2:\n",
      "AttributeError: 'Bind' object has no attribute 'term'\n",
      "Process Process-3:1:1:1:1:1:1:1:1:2:\n",
      "Traceback (most recent call last):\n",
      "Traceback (most recent call last):\n",
      "  File \"/home/tibvyasa/miniconda3/envs/coypu_demo/lib/python3.10/multiprocessing/process.py\", line 314, in _bootstrap\n",
      "    self.run()\n",
      "  File \"/home/tibvyasa/miniconda3/envs/coypu_demo/lib/python3.10/multiprocessing/process.py\", line 314, in _bootstrap\n",
      "    self.run()\n",
      "  File \"/home/tibvyasa/miniconda3/envs/coypu_demo/lib/python3.10/multiprocessing/process.py\", line 108, in run\n",
      "    self._target(*self._args, **self._kwargs)\n",
      "  File \"/home/tibvyasa/miniconda3/envs/coypu_demo/lib/python3.10/site-packages/DeTrusty/Operators/AnapsidOperators/Xbind.py\", line 70, in execute\n",
      "    b_value = self.bind.term\n",
      "  File \"/home/tibvyasa/miniconda3/envs/coypu_demo/lib/python3.10/multiprocessing/process.py\", line 108, in run\n",
      "    self._target(*self._args, **self._kwargs)\n",
      "  File \"/home/tibvyasa/miniconda3/envs/coypu_demo/lib/python3.10/site-packages/DeTrusty/Operators/AnapsidOperators/Xbind.py\", line 70, in execute\n",
      "    b_value = self.bind.term\n",
      "2022-12-03 00:25:11,042 - DeTrusty.Wrapper.RDFWrapper - INFO - Contacting endpoint: https://skynet.coypu.org/wikievents\n",
      "2022-12-03 00:25:11,027 - DeTrusty.Wrapper.RDFWrapper - INFO - Contacting endpoint: https://query.wikidata.org/sparql\n",
      "AttributeError: 'Bind' object has no attribute 'term'\n",
      "AttributeError: 'Bind' object has no attribute 'term'\n",
      "2022-12-03 00:25:11,061 - DeTrusty.Wrapper.RDFWrapper - INFO - Contacting endpoint: https://query.wikidata.org/sparql\n",
      "2022-12-03 00:25:11,344 - DeTrusty.Wrapper.RDFWrapper - ERROR - Exception while sending request to https://skynet.coypu.org/wikievents - msg: HTTP Error 404: Not Found - query: \n",
      "prefix coy: <https://schema.coypu.org/global#>\n",
      "prefix rdfs: <http://www.w3.org/2000/01/rdf-schema#>\n",
      "prefix xsd: <http://www.w3.org/2001/XMLSchema#>\n",
      "prefix owl: <http://www.w3.org/2002/07/owl#>\n",
      "prefix skos: <http://www.w3.org/2004/02/skos/core#>\n",
      "prefix time: <http://www.w3.org/2006/time#>\n",
      "prefix wd: <http://www.wikidata.org/entity/>\n",
      "prefix wds: <http://www.wikidata.org/entity/statement/>\n",
      "prefix wdv: <http://www.wikidata.org/value/>\n",
      "prefix wdt: <http://www.wikidata.org/prop/direct/>\n",
      "prefix wikibase: <http://wikiba.se/ontology#>\n",
      "prefix p: <http://www.wikidata.org/prop/>\n",
      "prefix ps: <http://www.wikidata.org/prop/statement/>\n",
      "prefix pq: <http://www.wikidata.org/prop/qualifier/>\n",
      "prefix bd: <http://www.bigdata.com/rdf#>\n",
      "SELECT ?itemP ?isoCode ?countryWiki WHERE {\n",
      "        ?countryWiki p:P1082 ?itemP . \n",
      "        ?countryWiki p:P298 ?isoCode\n",
      "\n",
      "} LIMIT 10000 OFFSET 0\n"
     ]
    }
   ],
   "source": [
    "print(query_4_fdq_ex_1)\n",
    "query_4_fdq_ex_1 = \"\"\"PREFIX coy: <https://schema.coypu.org/global#>\n",
    "PREFIX rdfs: <http://www.w3.org/2000/01/rdf-schema#>\n",
    "PREFIX xsd: <http://www.w3.org/2001/XMLSchema#>\n",
    "PREFIX owl: <http://www.w3.org/2002/07/owl#>\n",
    "PREFIX skos: <http://www.w3.org/2004/02/skos/core#>\n",
    "PREFIX time: <http://www.w3.org/2006/time#>\n",
    "\n",
    "PREFIX wd: <http://www.wikidata.org/entity/>\n",
    "PREFIX wds: <http://www.wikidata.org/entity/statement/>\n",
    "PREFIX wdv: <http://www.wikidata.org/value/>\n",
    "PREFIX wdt: <http://www.wikidata.org/prop/direct/>\n",
    "PREFIX wikibase: <http://wikiba.se/ontology#>\n",
    "PREFIX p: <http://www.wikidata.org/prop/>\n",
    "PREFIX ps: <http://www.wikidata.org/prop/statement/>\n",
    "PREFIX pq: <http://www.wikidata.org/prop/qualifier/>\n",
    "PREFIX bd: <http://www.bigdata.com/rdf#>\n",
    "\n",
    "SELECT ?year (COUNT(?iri) AS ?no_of_events) \n",
    "WHERE {\n",
    "    ?iri a coy:Conflict .\n",
    "    ?iri coy:hasIsoCode 'IDN' .\n",
    "    ?iri coy:hasTimestamp ?timestamp .\n",
    "    ?iri coy:hasFatalities ?fatalities .\n",
    "    BIND(year(?timestamp) as ?year)\n",
    "    \n",
    "    ?countryWiki p:P298 ?isoCode .\n",
    "    ?isoCode ps:P298 'IDN' .\n",
    "    ?countryWiki p:P1082 ?itemP .\n",
    "    ?itemP pq:P585 ?time .\n",
    "    ?itemP ps:P1082 ?population .\n",
    "    BIND(year(?time) as ?year)\n",
    "}\n",
    "GROUP BY ?year\"\"\"\n",
    "\n",
    "fdq_request.execute(query_4_fdq_ex_1, config_private, False)\n",
    "fdq_request.save('../query_results/', 'query_4_fdq_ex_1')"
   ]
  },
  {
   "cell_type": "code",
   "execution_count": null,
   "id": "815e669d-34f1-4637-ab70-427021f4e240",
   "metadata": {},
   "outputs": [],
   "source": [
    "\n",
    "df = pd.read_csv('../../query_results/query_4_fdq_ex_1.csv', encoding='utf-8')\n",
    "\n",
    "df"
   ]
  },
  {
   "cell_type": "code",
   "execution_count": null,
   "id": "99b594eb-db68-44b5-a305-389fbcd6f8ac",
   "metadata": {},
   "outputs": [],
   "source": []
  }
 ],
 "metadata": {
  "kernelspec": {
   "display_name": "Python 3 (ipykernel)",
   "language": "python",
   "name": "python3"
  },
  "language_info": {
   "codemirror_mode": {
    "name": "ipython",
    "version": 3
   },
   "file_extension": ".py",
   "mimetype": "text/x-python",
   "name": "python",
   "nbconvert_exporter": "python",
   "pygments_lexer": "ipython3",
   "version": "3.10.8"
  },
  "toc-autonumbering": true,
  "toc-showcode": true,
  "toc-showmarkdowntxt": true,
  "vscode": {
   "interpreter": {
    "hash": "1f01d2debc0dab2131111cf4fcc295bf8655e407cc17f23f4d91786b78fe5ca1"
   }
  }
 },
 "nbformat": 4,
 "nbformat_minor": 5
}
