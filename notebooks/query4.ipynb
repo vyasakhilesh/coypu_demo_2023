{
 "cells": [
  {
   "cell_type": "code",
   "execution_count": 1,
   "id": "75394514-8b89-4c8c-987c-3207f9c03d17",
   "metadata": {},
   "outputs": [
    {
     "name": "stdout",
     "output_type": "stream",
     "text": [
      "coypu.utils\n"
     ]
    }
   ],
   "source": [
    "import pandas as pd\n",
    "from coypu.utils.query import Query\n",
    "from coypu.utils.credentials import *\n",
    "from query.queries import *\n",
    "import plotly.express as px\n",
    "import plotly.io as pio\n",
    "pio.renderers.default = \"browser\"\n",
    "import matplotlib.pyplot as plt\n",
    "import numpy as np\n",
    "from coypu.utils.functions import json_to_csv, timer\n",
    "from json import loads, load\n",
    "import os\n",
    "from functools import reduce\n",
    "\n",
    "pd.options.display.max_rows = 999\n",
    "pd.options.display.max_columns = 999"
   ]
  },
  {
   "cell_type": "code",
   "execution_count": null,
   "id": "c87047ac-b265-460a-a20d-2b917e3fa4fd",
   "metadata": {},
   "outputs": [],
   "source": [
    "cmemc_query_imp = Query(client_url_imp, client_id_imp, client_secret_imp , 'oauth')\n",
    "    \n",
    "fuseki_infai = Query(fuseki_endpoint_infai, fuseki_user_infai, fuseki_pw_infai, 'basic')\n",
    "\n",
    "fdquery = Query(\"http://localhost:5002/sparql\", is_fdq=True)"
   ]
  },
  {
   "cell_type": "code",
   "execution_count": null,
   "id": "9e47c410-b348-4c1e-90cf-2abcd0aeef98",
   "metadata": {},
   "outputs": [],
   "source": [
    "print(query_4_fdq_desc)\n",
    "print(query_4_fdq)\n",
    "print('########################### EXAMPLE ##########################\\n{}'.format(query_4_fdq_ex))\n",
    "\n",
    "# fdquery.post_query(query_4_fdq_ex)\n",
    "# fdquery.to_save('../../query_results/', filename='query_4_fdq_ex')"
   ]
  },
  {
   "cell_type": "code",
   "execution_count": null,
   "id": "dec00396-79cc-4017-9fbf-7b2bc3245290",
   "metadata": {},
   "outputs": [],
   "source": [
    "\n",
    "@timer\n",
    "def load_json(filename):\n",
    "    with open(filename) as js:\n",
    "        json_data = load(js)\n",
    "        return json_data\n",
    "\n",
    "@timer\n",
    "def merge_jsons_to_csv(filepath, save_path, outfile, columns):\n",
    "    df = reduce(lambda df1, df2: pd.concat([df1, df2]), \\\n",
    "                [json_to_csv(load_json(filepath+filename)['results']['bindings'], save_path, filename, columns, True) for filename in os.listdir(filepath)])\n",
    "    \n",
    "    df.to_csv(save_path+outfile, encoding='utf-8', index=False)\n"
   ]
  },
  {
   "cell_type": "code",
   "execution_count": null,
   "id": "43fd00e3-e6e7-4921-87b9-a40269682a33",
   "metadata": {},
   "outputs": [],
   "source": [
    "\n",
    "    \n",
    "columns=[var+'.value' for var in load_json('../../query_results/query_4/query4_germany.isocode.json')['head']['vars']]\n",
    "print(columns)\n",
    "# merge_jsons_to_csv('../../query_results/query_4/', '../../query_results/', 'query_4_fdq_ex.csv', columns)\n",
    "\n",
    "json_to_csv(load_json('../../query_results/query_4/query4_syria.isocode.json')['results']['bindings'], '../../query_results/', 'query_4_fdq_syria_ex', columns)"
   ]
  },
  {
   "cell_type": "code",
   "execution_count": null,
   "id": "181d70d9-3deb-4c2d-ba2a-10b7b4d7a89c",
   "metadata": {},
   "outputs": [],
   "source": [
    "def timestamp_to_year(text):\n",
    "    return pd.Timestamp(text).year"
   ]
  },
  {
   "cell_type": "code",
   "execution_count": null,
   "id": "11678928-c669-4d72-996a-af3e0c0723bf",
   "metadata": {},
   "outputs": [],
   "source": [
    "from sqlalchemy import create_engine\n",
    "\n",
    "engine = create_engine(\n",
    "        \"mysql+pymysql://{user}:{pw}@{hostname}:{portno}/{db}\".format(\n",
    "            hostname=host, db=dbname, user=uname, pw=pwd, portno=port\n",
    "        ),)\n",
    "\n",
    "filepath = '../../query_results/'\n",
    "for filename in os.listdir(filepath):\n",
    "    if 'query4_' in filename:\n",
    "        print(filename)\n",
    "        df = pd.read_csv(filepath+filename, encoding='utf-8')\n",
    "        df.rename(columns=lambda x: x.replace('.value', ''), inplace=True)\n",
    "        df['year']= df['time'].apply(timestamp_to_year)\n",
    "        try:\n",
    "            df.to_sql('query_4_fdq_ex', con=engine, if_exists='append', index=False, chunksize=300000)\n",
    "        except Exception as e:\n",
    "            print('Exeception: {}',e)"
   ]
  },
  {
   "cell_type": "code",
   "execution_count": 2,
   "id": "6cc78219-5839-4489-840b-5011adf46853",
   "metadata": {},
   "outputs": [],
   "source": [
    "from sqlalchemy import create_engine\n",
    "\n",
    "engine = create_engine(\n",
    "        \"mysql+pymysql://{user}:{pw}@{hostname}:{portno}/{db}\".format(\n",
    "            hostname=host, db=dbname, user=uname, pw=pwd, portno=port))\n",
    "df = pd.read_sql(query_4_fdq_ex_sql, con=engine)\n",
    "\n",
    "df.to_csv('../../query_results/query_4_fdq_ex_sql.csv', encoding='utf-8', index=False)"
   ]
  },
  {
   "cell_type": "code",
   "execution_count": 6,
   "id": "ab400c3f-c92b-4b6e-b051-ef5530f75ddc",
   "metadata": {},
   "outputs": [
    {
     "data": {
      "text/html": [
       "<div>\n",
       "<style scoped>\n",
       "    .dataframe tbody tr th:only-of-type {\n",
       "        vertical-align: middle;\n",
       "    }\n",
       "\n",
       "    .dataframe tbody tr th {\n",
       "        vertical-align: top;\n",
       "    }\n",
       "\n",
       "    .dataframe thead th {\n",
       "        text-align: right;\n",
       "    }\n",
       "</style>\n",
       "<table border=\"1\" class=\"dataframe\">\n",
       "  <thead>\n",
       "    <tr style=\"text-align: right;\">\n",
       "      <th></th>\n",
       "      <th>isocode</th>\n",
       "      <th>country</th>\n",
       "      <th>year</th>\n",
       "      <th>fatalities_per_million</th>\n",
       "      <th>no_of_events</th>\n",
       "    </tr>\n",
       "  </thead>\n",
       "  <tbody>\n",
       "    <tr>\n",
       "      <th>0</th>\n",
       "      <td>UKR</td>\n",
       "      <td>Ukraine</td>\n",
       "      <td>2021</td>\n",
       "      <td>30.0678</td>\n",
       "      <td>30620</td>\n",
       "    </tr>\n",
       "    <tr>\n",
       "      <th>1</th>\n",
       "      <td>UKR</td>\n",
       "      <td>Ukraine</td>\n",
       "      <td>2020</td>\n",
       "      <td>0.0000</td>\n",
       "      <td>2</td>\n",
       "    </tr>\n",
       "    <tr>\n",
       "      <th>2</th>\n",
       "      <td>UKR</td>\n",
       "      <td>Ukraine</td>\n",
       "      <td>2019</td>\n",
       "      <td>0.0000</td>\n",
       "      <td>11</td>\n",
       "    </tr>\n",
       "  </tbody>\n",
       "</table>\n",
       "</div>"
      ],
      "text/plain": [
       "  isocode  country  year  fatalities_per_million  no_of_events\n",
       "0     UKR  Ukraine  2021                 30.0678         30620\n",
       "1     UKR  Ukraine  2020                  0.0000             2\n",
       "2     UKR  Ukraine  2019                  0.0000            11"
      ]
     },
     "execution_count": 6,
     "metadata": {},
     "output_type": "execute_result"
    }
   ],
   "source": [
    "df = pd.read_csv('../../query_results/query_4_fdq_ex_sql.csv', encoding='utf-8')\n",
    "\n",
    "df"
   ]
  },
  {
   "cell_type": "code",
   "execution_count": null,
   "id": "aba806e4-b824-4401-b6dc-459dae4aba72",
   "metadata": {},
   "outputs": [],
   "source": []
  },
  {
   "cell_type": "code",
   "execution_count": null,
   "id": "92c4bf74-2811-4aa6-8f74-f2e39fedf608",
   "metadata": {},
   "outputs": [],
   "source": []
  }
 ],
 "metadata": {
  "kernelspec": {
   "display_name": "Python 3 (ipykernel)",
   "language": "python",
   "name": "python3"
  },
  "language_info": {
   "codemirror_mode": {
    "name": "ipython",
    "version": 3
   },
   "file_extension": ".py",
   "mimetype": "text/x-python",
   "name": "python",
   "nbconvert_exporter": "python",
   "pygments_lexer": "ipython3",
   "version": "3.9.13"
  }
 },
 "nbformat": 4,
 "nbformat_minor": 5
}
