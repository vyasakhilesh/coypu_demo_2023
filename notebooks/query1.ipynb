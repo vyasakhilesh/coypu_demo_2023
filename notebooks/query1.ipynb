{
 "cells": [
  {
   "cell_type": "raw",
   "id": "9f44cf57-366f-4544-85a2-3f39962f2a4f",
   "metadata": {},
   "source": [
    "%%bash\n",
    "# install python packages using requirements.txt file\n",
    "pip install -r ../requirements.txt"
   ]
  },
  {
   "cell_type": "code",
   "execution_count": 1,
   "id": "75394514-8b89-4c8c-987c-3207f9c03d17",
   "metadata": {},
   "outputs": [
    {
     "name": "stdout",
     "output_type": "stream",
     "text": [
      "\n"
     ]
    }
   ],
   "source": [
    "# Third party packages\n",
    "import pandas as pd\n",
    "import plotly.express as px\n",
    "import plotly.io as pio\n",
    "pio.renderers.default = \"browser\"\n",
    "import matplotlib.pyplot as plt\n",
    "from io import StringIO\n",
    "from IPython.display import display\n",
    "\n",
    "# Adding path\n",
    "from os.path import abspath\n",
    "import sys\n",
    "sys.path.insert(0, abspath('..'))\n",
    "\n",
    "# \n",
    "from query_request import *\n",
    "from query_def import *\n",
    "import credentials\n",
    "# from sqlalchemy import create_engine\n",
    "\n",
    "# pandas display settings\n",
    "pd.options.display.max_rows = 999\n",
    "pd.options.display.max_columns = 999\n",
    "pd.options.display.max_colwidth=None\n"
   ]
  },
  {
   "cell_type": "code",
   "execution_count": 2,
   "id": "30fcc3c8-f61f-47a2-ba6b-c22b32ba8471",
   "metadata": {},
   "outputs": [],
   "source": [
    "# Demo for LDM\n",
    "\n",
    "# Upload dataset\n",
    "# downlaod dataset"
   ]
  },
  {
   "cell_type": "code",
   "execution_count": 3,
   "id": "0ea0cecb-4073-4abd-8ec8-2871e021ccb6",
   "metadata": {},
   "outputs": [],
   "source": [
    "# Demo for dragoman"
   ]
  },
  {
   "cell_type": "raw",
   "id": "311373a2-2f6a-4367-b495-cda58b9e7319",
   "metadata": {},
   "source": [
    "%%time\n",
    "# for transforming datset into Knowlege graphs using SDM-RDFizer python library\n",
    "from rdfizer.semantify import semantify\n",
    "semantify('../configs/config.ini')"
   ]
  },
  {
   "cell_type": "markdown",
   "id": "1c41a72e-10a9-4b29-a5b2-8bc66c99489c",
   "metadata": {},
   "source": [
    "# [Creating Endpoint](../configs/docker_command_icews.sh)"
   ]
  },
  {
   "cell_type": "raw",
   "id": "a680b523-95d1-4a0e-ac43-fb06754c66c1",
   "metadata": {},
   "source": [
    "%%bash\n",
    "# if you have access to TIB server execute this cell\n",
    "# load data to triple store\n",
    "# copy data to server\n",
    "rsync -avP ../kgdata/icews.nt node2:/data/coypu/icews_endpoint/data_load\n",
    "\n",
    "# create endpoint on server\n",
    "scp ../configs/docker_command_icews.sh node2:/data/coypu/icews_endpoint/\n",
    "ssh node2 'cd /data/coypu/lei_endpoint/ && ./docker_command_lei.sh >out 2>error &'"
   ]
  },
  {
   "cell_type": "code",
   "execution_count": 4,
   "id": "2ae35b81-d235-44c2-8160-6ba7faaf11ec",
   "metadata": {},
   "outputs": [
    {
     "name": "stdout",
     "output_type": "stream",
     "text": [
      "Total time taken by dictfrmjson function: 0.00013756752014160156\n",
      "{'https://labs.tib.eu/sdm/worldbank_endpoint/sparql': {}, 'https://labs.tib.eu/sdm/icews_endpoint/sparql': {}, 'https://labs.tib.eu/sdm/lei_endpoint/sparql': {}, 'https://skynet.coypu.org/coypu-internal': {'username': 'Your UserName', 'password': 'Your Password'}}\n"
     ]
    }
   ],
   "source": [
    "# create rdfmts\n",
    "from DeTrusty import run_query\n",
    "from DeTrusty.Molecule.MTCreation import create_rdfmts\n",
    "from DeTrusty.Molecule.MTManager import ConfigFile\n",
    "\n",
    "# Creating endpoints dictionary\n",
    "endpoints = dictfrmjson('../configs/endpoints_sample.json')\n",
    "print(endpoints)\n",
    "\n",
    "# Creating RDF molecule template (rdfmts) from endpoints\n",
    "# log_rdfmts = create_rdfmts(endpoints, '../configs/rdfmts.json')\n",
    "\n",
    "# if already rdfmts has been created \n",
    "config_private = ConfigFile('../configs/rdfmts_private.json')\n",
    "config_public = ConfigFile('../configs/rdfmts_public.json')"
   ]
  },
  {
   "cell_type": "markdown",
   "id": "b2561813-85b1-4d4f-992a-f16d4b37fb7c",
   "metadata": {},
   "source": [
    "## Endpoints Status"
   ]
  },
  {
   "cell_type": "code",
   "execution_count": 5,
   "id": "c87047ac-b265-460a-a20d-2b917e3fa4fd",
   "metadata": {},
   "outputs": [
    {
     "data": {
      "text/plain": [
       "'############### Cmemc Endpoint ###############'"
      ]
     },
     "metadata": {},
     "output_type": "display_data"
    },
    {
     "name": "stdout",
     "output_type": "stream",
     "text": [
      "Passed Query Status: 200\n",
      "Total time taken by execute function: 0.4411814212799072\n"
     ]
    },
    {
     "data": {
      "text/html": [
       "<div>\n",
       "<style scoped>\n",
       "    .dataframe tbody tr th:only-of-type {\n",
       "        vertical-align: middle;\n",
       "    }\n",
       "\n",
       "    .dataframe tbody tr th {\n",
       "        vertical-align: top;\n",
       "    }\n",
       "\n",
       "    .dataframe thead th {\n",
       "        text-align: right;\n",
       "    }\n",
       "</style>\n",
       "<table border=\"1\" class=\"dataframe\">\n",
       "  <thead>\n",
       "    <tr style=\"text-align: right;\">\n",
       "      <th></th>\n",
       "      <th>Subject</th>\n",
       "      <th>Concept</th>\n",
       "    </tr>\n",
       "  </thead>\n",
       "  <tbody>\n",
       "    <tr>\n",
       "      <th>995</th>\n",
       "      <td>https://vocab.eccenca.com/shacl/GraphTemplateJinjaTemplatePropertyShape</td>\n",
       "      <td>http://www.w3.org/2000/01/rdf-schema#Resource</td>\n",
       "    </tr>\n",
       "    <tr>\n",
       "      <th>996</th>\n",
       "      <td>https://vocab.eccenca.com/shacl/GraphTemplateJinjaTemplatePropertyShape</td>\n",
       "      <td>http://www.w3.org/ns/shacl#PropertyShape</td>\n",
       "    </tr>\n",
       "    <tr>\n",
       "      <th>997</th>\n",
       "      <td>https://vocab.eccenca.com/shui/jinjaTemplateString</td>\n",
       "      <td>http://www.w3.org/1999/02/22-rdf-syntax-ns#Property</td>\n",
       "    </tr>\n",
       "    <tr>\n",
       "      <th>998</th>\n",
       "      <td>https://vocab.eccenca.com/shui/jinjaTemplateString</td>\n",
       "      <td>http://www.w3.org/2000/01/rdf-schema#Resource</td>\n",
       "    </tr>\n",
       "    <tr>\n",
       "      <th>999</th>\n",
       "      <td>https://vocab.eccenca.com/shui/jinjaTemplateString</td>\n",
       "      <td>http://www.w3.org/2002/07/owl#DatatypeProperty</td>\n",
       "    </tr>\n",
       "  </tbody>\n",
       "</table>\n",
       "</div>"
      ],
      "text/plain": [
       "                                                                     Subject  \\\n",
       "995  https://vocab.eccenca.com/shacl/GraphTemplateJinjaTemplatePropertyShape   \n",
       "996  https://vocab.eccenca.com/shacl/GraphTemplateJinjaTemplatePropertyShape   \n",
       "997                       https://vocab.eccenca.com/shui/jinjaTemplateString   \n",
       "998                       https://vocab.eccenca.com/shui/jinjaTemplateString   \n",
       "999                       https://vocab.eccenca.com/shui/jinjaTemplateString   \n",
       "\n",
       "                                                 Concept  \n",
       "995        http://www.w3.org/2000/01/rdf-schema#Resource  \n",
       "996             http://www.w3.org/ns/shacl#PropertyShape  \n",
       "997  http://www.w3.org/1999/02/22-rdf-syntax-ns#Property  \n",
       "998        http://www.w3.org/2000/01/rdf-schema#Resource  \n",
       "999       http://www.w3.org/2002/07/owl#DatatypeProperty  "
      ]
     },
     "metadata": {},
     "output_type": "display_data"
    },
    {
     "data": {
      "text/plain": [
       "'############### Skynet Endpoint ###############'"
      ]
     },
     "metadata": {},
     "output_type": "display_data"
    },
    {
     "name": "stdout",
     "output_type": "stream",
     "text": [
      "Passed Query Status: 200\n",
      "Total time taken by execute function: 0.15735363960266113\n"
     ]
    },
    {
     "data": {
      "text/html": [
       "<div>\n",
       "<style scoped>\n",
       "    .dataframe tbody tr th:only-of-type {\n",
       "        vertical-align: middle;\n",
       "    }\n",
       "\n",
       "    .dataframe tbody tr th {\n",
       "        vertical-align: top;\n",
       "    }\n",
       "\n",
       "    .dataframe thead th {\n",
       "        text-align: right;\n",
       "    }\n",
       "</style>\n",
       "<table border=\"1\" class=\"dataframe\">\n",
       "  <thead>\n",
       "    <tr style=\"text-align: right;\">\n",
       "      <th></th>\n",
       "      <th>Subject</th>\n",
       "      <th>Concept</th>\n",
       "    </tr>\n",
       "  </thead>\n",
       "  <tbody>\n",
       "    <tr>\n",
       "      <th>995</th>\n",
       "      <td>https://data.coypu.org/lei/8156000353C9ABA3F689-VAL</td>\n",
       "      <td>https://www.gleif.org/ontology/L1/BusinessValidationIdentifier</td>\n",
       "    </tr>\n",
       "    <tr>\n",
       "      <th>996</th>\n",
       "      <td>https://data.coypu.org/lei/815600D55096AE766623-VAL</td>\n",
       "      <td>https://www.gleif.org/ontology/L1/BusinessValidationIdentifier</td>\n",
       "    </tr>\n",
       "    <tr>\n",
       "      <th>997</th>\n",
       "      <td>https://data.coypu.org/lei/335800Y4N8RGXM1GO884-VAL</td>\n",
       "      <td>https://www.gleif.org/ontology/L1/BusinessValidationIdentifier</td>\n",
       "    </tr>\n",
       "    <tr>\n",
       "      <th>998</th>\n",
       "      <td>https://data.coypu.org/lei/81560018EC9F4A988702-VAL</td>\n",
       "      <td>https://www.gleif.org/ontology/L1/BusinessValidationIdentifier</td>\n",
       "    </tr>\n",
       "    <tr>\n",
       "      <th>999</th>\n",
       "      <td>https://data.coypu.org/lei/969500EJTC0A46FJSZ16-VAL</td>\n",
       "      <td>https://www.gleif.org/ontology/L1/BusinessValidationIdentifier</td>\n",
       "    </tr>\n",
       "  </tbody>\n",
       "</table>\n",
       "</div>"
      ],
      "text/plain": [
       "                                                 Subject  \\\n",
       "995  https://data.coypu.org/lei/8156000353C9ABA3F689-VAL   \n",
       "996  https://data.coypu.org/lei/815600D55096AE766623-VAL   \n",
       "997  https://data.coypu.org/lei/335800Y4N8RGXM1GO884-VAL   \n",
       "998  https://data.coypu.org/lei/81560018EC9F4A988702-VAL   \n",
       "999  https://data.coypu.org/lei/969500EJTC0A46FJSZ16-VAL   \n",
       "\n",
       "                                                            Concept  \n",
       "995  https://www.gleif.org/ontology/L1/BusinessValidationIdentifier  \n",
       "996  https://www.gleif.org/ontology/L1/BusinessValidationIdentifier  \n",
       "997  https://www.gleif.org/ontology/L1/BusinessValidationIdentifier  \n",
       "998  https://www.gleif.org/ontology/L1/BusinessValidationIdentifier  \n",
       "999  https://www.gleif.org/ontology/L1/BusinessValidationIdentifier  "
      ]
     },
     "metadata": {},
     "output_type": "display_data"
    },
    {
     "data": {
      "text/plain": [
       "'############### Worldbank Endpoint ###############'"
      ]
     },
     "metadata": {},
     "output_type": "display_data"
    },
    {
     "name": "stdout",
     "output_type": "stream",
     "text": [
      "Passed Query Status: 200\n",
      "Total time taken by execute function: 0.14722490310668945\n"
     ]
    },
    {
     "data": {
      "text/plain": [
       "200"
      ]
     },
     "metadata": {},
     "output_type": "display_data"
    },
    {
     "data": {
      "text/html": [
       "<div>\n",
       "<style scoped>\n",
       "    .dataframe tbody tr th:only-of-type {\n",
       "        vertical-align: middle;\n",
       "    }\n",
       "\n",
       "    .dataframe tbody tr th {\n",
       "        vertical-align: top;\n",
       "    }\n",
       "\n",
       "    .dataframe thead th {\n",
       "        text-align: right;\n",
       "    }\n",
       "</style>\n",
       "<table border=\"1\" class=\"dataframe\">\n",
       "  <thead>\n",
       "    <tr style=\"text-align: right;\">\n",
       "      <th></th>\n",
       "      <th>Subject</th>\n",
       "      <th>Concept</th>\n",
       "    </tr>\n",
       "  </thead>\n",
       "  <tbody>\n",
       "    <tr>\n",
       "      <th>995</th>\n",
       "      <td>http://worldbank.org/Indicator/SH.HIV.ARTC.ZS</td>\n",
       "      <td>http://worldbank.org/Indicator</td>\n",
       "    </tr>\n",
       "    <tr>\n",
       "      <th>996</th>\n",
       "      <td>http://worldbank.org/Indicator/SH.HIV.INCD</td>\n",
       "      <td>http://worldbank.org/Indicator</td>\n",
       "    </tr>\n",
       "    <tr>\n",
       "      <th>997</th>\n",
       "      <td>http://worldbank.org/Indicator/SH.HIV.INCD.14</td>\n",
       "      <td>http://worldbank.org/Indicator</td>\n",
       "    </tr>\n",
       "    <tr>\n",
       "      <th>998</th>\n",
       "      <td>http://worldbank.org/Indicator/SH.HIV.INCD.TL</td>\n",
       "      <td>http://worldbank.org/Indicator</td>\n",
       "    </tr>\n",
       "    <tr>\n",
       "      <th>999</th>\n",
       "      <td>http://worldbank.org/Indicator/SH.HIV.INCD.TL.P3</td>\n",
       "      <td>http://worldbank.org/Indicator</td>\n",
       "    </tr>\n",
       "  </tbody>\n",
       "</table>\n",
       "</div>"
      ],
      "text/plain": [
       "                                              Subject  \\\n",
       "995     http://worldbank.org/Indicator/SH.HIV.ARTC.ZS   \n",
       "996        http://worldbank.org/Indicator/SH.HIV.INCD   \n",
       "997     http://worldbank.org/Indicator/SH.HIV.INCD.14   \n",
       "998     http://worldbank.org/Indicator/SH.HIV.INCD.TL   \n",
       "999  http://worldbank.org/Indicator/SH.HIV.INCD.TL.P3   \n",
       "\n",
       "                            Concept  \n",
       "995  http://worldbank.org/Indicator  \n",
       "996  http://worldbank.org/Indicator  \n",
       "997  http://worldbank.org/Indicator  \n",
       "998  http://worldbank.org/Indicator  \n",
       "999  http://worldbank.org/Indicator  "
      ]
     },
     "metadata": {},
     "output_type": "display_data"
    },
    {
     "data": {
      "text/plain": [
       "'############### LEI Endpoint ###############'"
      ]
     },
     "metadata": {},
     "output_type": "display_data"
    },
    {
     "name": "stdout",
     "output_type": "stream",
     "text": [
      "Passed Query Status: 200\n",
      "Total time taken by execute function: 0.11589455604553223\n"
     ]
    },
    {
     "data": {
      "text/html": [
       "<div>\n",
       "<style scoped>\n",
       "    .dataframe tbody tr th:only-of-type {\n",
       "        vertical-align: middle;\n",
       "    }\n",
       "\n",
       "    .dataframe tbody tr th {\n",
       "        vertical-align: top;\n",
       "    }\n",
       "\n",
       "    .dataframe thead th {\n",
       "        text-align: right;\n",
       "    }\n",
       "</style>\n",
       "<table border=\"1\" class=\"dataframe\">\n",
       "  <thead>\n",
       "    <tr style=\"text-align: right;\">\n",
       "      <th></th>\n",
       "      <th>Subject</th>\n",
       "      <th>Concept</th>\n",
       "    </tr>\n",
       "  </thead>\n",
       "  <tbody>\n",
       "    <tr>\n",
       "      <th>995</th>\n",
       "      <td>https://data.coypu.org/lei/2138006HHBEMF1TGWU29-LA</td>\n",
       "      <td>https://www.gleif.org/ontology/Base/PhysicalAddress</td>\n",
       "    </tr>\n",
       "    <tr>\n",
       "      <th>996</th>\n",
       "      <td>https://data.coypu.org/lei/2138006HHUG8LC4UD387-LA</td>\n",
       "      <td>https://www.gleif.org/ontology/Base/PhysicalAddress</td>\n",
       "    </tr>\n",
       "    <tr>\n",
       "      <th>997</th>\n",
       "      <td>https://data.coypu.org/lei/2138006HHXWLEK5WVK02-LA</td>\n",
       "      <td>https://www.gleif.org/ontology/Base/PhysicalAddress</td>\n",
       "    </tr>\n",
       "    <tr>\n",
       "      <th>998</th>\n",
       "      <td>https://data.coypu.org/lei/2138006HI1P4JTM2WM22-LA</td>\n",
       "      <td>https://www.gleif.org/ontology/Base/PhysicalAddress</td>\n",
       "    </tr>\n",
       "    <tr>\n",
       "      <th>999</th>\n",
       "      <td>https://data.coypu.org/lei/2138006HI5AF5E1P4T95-LA</td>\n",
       "      <td>https://www.gleif.org/ontology/Base/PhysicalAddress</td>\n",
       "    </tr>\n",
       "  </tbody>\n",
       "</table>\n",
       "</div>"
      ],
      "text/plain": [
       "                                                Subject  \\\n",
       "995  https://data.coypu.org/lei/2138006HHBEMF1TGWU29-LA   \n",
       "996  https://data.coypu.org/lei/2138006HHUG8LC4UD387-LA   \n",
       "997  https://data.coypu.org/lei/2138006HHXWLEK5WVK02-LA   \n",
       "998  https://data.coypu.org/lei/2138006HI1P4JTM2WM22-LA   \n",
       "999  https://data.coypu.org/lei/2138006HI5AF5E1P4T95-LA   \n",
       "\n",
       "                                                 Concept  \n",
       "995  https://www.gleif.org/ontology/Base/PhysicalAddress  \n",
       "996  https://www.gleif.org/ontology/Base/PhysicalAddress  \n",
       "997  https://www.gleif.org/ontology/Base/PhysicalAddress  \n",
       "998  https://www.gleif.org/ontology/Base/PhysicalAddress  \n",
       "999  https://www.gleif.org/ontology/Base/PhysicalAddress  "
      ]
     },
     "metadata": {},
     "output_type": "display_data"
    },
    {
     "data": {
      "text/plain": [
       "'############### ICEWS Endpoint ###############'"
      ]
     },
     "metadata": {},
     "output_type": "display_data"
    },
    {
     "name": "stdout",
     "output_type": "stream",
     "text": [
      "Passed Query Status: 200\n",
      "Total time taken by execute function: 0.1198737621307373\n"
     ]
    },
    {
     "data": {
      "text/html": [
       "<div>\n",
       "<style scoped>\n",
       "    .dataframe tbody tr th:only-of-type {\n",
       "        vertical-align: middle;\n",
       "    }\n",
       "\n",
       "    .dataframe tbody tr th {\n",
       "        vertical-align: top;\n",
       "    }\n",
       "\n",
       "    .dataframe thead th {\n",
       "        text-align: right;\n",
       "    }\n",
       "</style>\n",
       "<table border=\"1\" class=\"dataframe\">\n",
       "  <thead>\n",
       "    <tr style=\"text-align: right;\">\n",
       "      <th></th>\n",
       "      <th>Subject</th>\n",
       "      <th>Concept</th>\n",
       "    </tr>\n",
       "  </thead>\n",
       "  <tbody>\n",
       "    <tr>\n",
       "      <th>995</th>\n",
       "      <td>https://data.coypu.org/icews/36616020</td>\n",
       "      <td>https://schema.coypu.org/global#Conflict</td>\n",
       "    </tr>\n",
       "    <tr>\n",
       "      <th>996</th>\n",
       "      <td>https://data.coypu.org/icews/36616021</td>\n",
       "      <td>https://schema.coypu.org/global#Conflict</td>\n",
       "    </tr>\n",
       "    <tr>\n",
       "      <th>997</th>\n",
       "      <td>https://data.coypu.org/icews/36616024</td>\n",
       "      <td>https://schema.coypu.org/global#Conflict</td>\n",
       "    </tr>\n",
       "    <tr>\n",
       "      <th>998</th>\n",
       "      <td>https://data.coypu.org/icews/36616025</td>\n",
       "      <td>https://schema.coypu.org/global#Conflict</td>\n",
       "    </tr>\n",
       "    <tr>\n",
       "      <th>999</th>\n",
       "      <td>https://data.coypu.org/icews/36616026</td>\n",
       "      <td>https://schema.coypu.org/global#Conflict</td>\n",
       "    </tr>\n",
       "  </tbody>\n",
       "</table>\n",
       "</div>"
      ],
      "text/plain": [
       "                                   Subject  \\\n",
       "995  https://data.coypu.org/icews/36616020   \n",
       "996  https://data.coypu.org/icews/36616021   \n",
       "997  https://data.coypu.org/icews/36616024   \n",
       "998  https://data.coypu.org/icews/36616025   \n",
       "999  https://data.coypu.org/icews/36616026   \n",
       "\n",
       "                                      Concept  \n",
       "995  https://schema.coypu.org/global#Conflict  \n",
       "996  https://schema.coypu.org/global#Conflict  \n",
       "997  https://schema.coypu.org/global#Conflict  \n",
       "998  https://schema.coypu.org/global#Conflict  \n",
       "999  https://schema.coypu.org/global#Conflict  "
      ]
     },
     "metadata": {},
     "output_type": "display_data"
    }
   ],
   "source": [
    "# Demo query to all available enpoints\n",
    "\n",
    "# demo query\n",
    "query_test = \"\"\"SELECT * WHERE{ ?Subject a ?Concept }LIMIT 1000\"\"\"\n",
    "\n",
    "\n",
    "# creating request for cmemc\n",
    "display(\"############### Cmemc Endpoint ###############\")\n",
    "cmemc_request = SPARQLRequest(client_url_imp, client_id_imp, client_secret_imp , 'oauth')\n",
    "# executing query and printing response\n",
    "cmemc_request.execute(query_test)\n",
    "buf = StringIO(cmemc_request.response.content.decode('utf-8'), newline='\\r\\n')          \n",
    "display(pd.read_csv(buf, encoding='utf-8').tail(5))\n",
    "\n",
    "# creating request for skynet\n",
    "display(\"############### Skynet Endpoint ###############\")\n",
    "skynet_request = SPARQLRequest(skynet_endpoint, skynet_user, skynet_pass, 'basic')\n",
    "# executing query and printing response\n",
    "skynet_request.execute(query_test)\n",
    "buf = StringIO(skynet_request.response.content.decode('utf-8'), newline='\\r\\n')          \n",
    "display(pd.read_csv(buf, encoding='utf-8').tail(5))\n",
    "\n",
    "# creating request for worldbank\n",
    "display(\"############### Worldbank Endpoint ###############\")\n",
    "worldbank_request = SPARQLRequest(worldbank_endpoint)\n",
    "# executing query and printing response\n",
    "worldbank_request.execute(query_test)\n",
    "display(worldbank_request.response.status_code)\n",
    "buf = StringIO(worldbank_request.response.content.decode('utf-8'), newline='\\r\\n')          \n",
    "display(pd.read_csv(buf, encoding='utf-8').tail(5))\n",
    "\n",
    "# creating request for LEI\n",
    "display(\"############### LEI Endpoint ###############\")\n",
    "lei_request = SPARQLRequest(lei_endpoint)\n",
    "# executing query and printing response\n",
    "lei_request.execute(query_test)\n",
    "buf = StringIO(lei_request.response.content.decode('utf-8'), newline='\\r\\n')          \n",
    "display(pd.read_csv(buf, encoding='utf-8').tail(5))\n",
    "\n",
    "# creating request for ICEWS\n",
    "display(\"############### ICEWS Endpoint ###############\")\n",
    "icews_request = SPARQLRequest(icews_endpoint)\n",
    "# executing query and printing response\n",
    "icews_request.execute(query_test)\n",
    "buf = StringIO(icews_request.response.content.decode('utf-8'), newline='\\r\\n')          \n",
    "display(pd.read_csv(buf, encoding='utf-8').tail(5))\n"
   ]
  },
  {
   "cell_type": "markdown",
   "id": "3b610e0f-a2e6-43dc-a755-ec47c352c4c1",
   "metadata": {},
   "source": [
    "## Federated Query"
   ]
  },
  {
   "cell_type": "code",
   "execution_count": 6,
   "id": "849bcb53-a494-41a0-847b-7e2d58015579",
   "metadata": {},
   "outputs": [
    {
     "data": {
      "text/plain": [
       "'############### Federated Query ###############'"
      ]
     },
     "metadata": {},
     "output_type": "display_data"
    },
    {
     "name": "stderr",
     "output_type": "stream",
     "text": [
      "2022-12-01 15:32:41,112 - DeTrusty.Wrapper.RDFWrapper - INFO - Contacting endpoint: https://labs.tib.eu/sdm/icews_endpoint/sparql/\n",
      "2022-12-01 15:32:41,171 - DeTrusty.Wrapper.RDFWrapper - INFO - Contacting endpoint: https://labs.tib.eu/sdm/worldbank_endpoint/sparql/\n",
      "2022-12-01 15:32:41,172 - DeTrusty.Wrapper.RDFWrapper - INFO - Contacting endpoint: https://labs.tib.eu/sdm/lei_endpoint/sparql/\n"
     ]
    },
    {
     "name": "stdout",
     "output_type": "stream",
     "text": [
      "Total time taken by execute function: 1.1645660400390625\n",
      "Index                    128\n",
      "Subject.value           8000\n",
      "Subject.type            8000\n",
      "Concept.value           8000\n",
      "Concept.type            8000\n",
      "__meta__.is_verified    1000\n",
      "dtype: int64\n",
      "<class 'pandas.core.frame.DataFrame'>\n",
      "RangeIndex: 1000 entries, 0 to 999\n",
      "Data columns (total 5 columns):\n",
      " #   Column                Non-Null Count  Dtype \n",
      "---  ------                --------------  ----- \n",
      " 0   Subject.value         1000 non-null   object\n",
      " 1   Subject.type          1000 non-null   object\n",
      " 2   Concept.value         1000 non-null   object\n",
      " 3   Concept.type          1000 non-null   object\n",
      " 4   __meta__.is_verified  1000 non-null   bool  \n",
      "dtypes: bool(1), object(4)\n",
      "memory usage: 32.4+ KB\n",
      "None\n",
      "Total time taken by json_to_csv function: 0.12555742263793945\n",
      "Total time taken by save function: 0.12610173225402832\n"
     ]
    },
    {
     "name": "stderr",
     "output_type": "stream",
     "text": [
      "2022-12-01 15:33:03,398 - DeTrusty.Wrapper.RDFWrapper - ERROR - Exception while sending request to https://labs.tib.eu/sdm/lei_endpoint/sparql/ - msg: HTTP Error 404: File not found - query: SELECT ?Subject ?Concept WHERE {\n",
      "        ?Subject <http://www.w3.org/1999/02/22-rdf-syntax-ns#type> ?Concept\n",
      "\n",
      "} LIMIT 10000 OFFSET 270000\n",
      "Process Process-1:1:\n",
      "Process Process-1:\n",
      "Process Process-1:1:2:1:\n",
      "Process Process-1:1:2:\n",
      "Traceback (most recent call last):\n",
      "Traceback (most recent call last):\n",
      "Traceback (most recent call last):\n",
      "Traceback (most recent call last):\n",
      "  File \"/home/tibvyasa/miniconda3/envs/coypu_demo/lib/python3.10/multiprocessing/process.py\", line 317, in _bootstrap\n",
      "    util._exit_function()\n",
      "  File \"/home/tibvyasa/miniconda3/envs/coypu_demo/lib/python3.10/multiprocessing/process.py\", line 317, in _bootstrap\n",
      "    util._exit_function()\n",
      "  File \"/home/tibvyasa/miniconda3/envs/coypu_demo/lib/python3.10/multiprocessing/process.py\", line 317, in _bootstrap\n",
      "    util._exit_function()\n",
      "  File \"/home/tibvyasa/miniconda3/envs/coypu_demo/lib/python3.10/multiprocessing/process.py\", line 317, in _bootstrap\n",
      "    util._exit_function()\n",
      "  File \"/home/tibvyasa/miniconda3/envs/coypu_demo/lib/python3.10/multiprocessing/util.py\", line 357, in _exit_function\n",
      "    p.join()\n",
      "  File \"/home/tibvyasa/miniconda3/envs/coypu_demo/lib/python3.10/multiprocessing/util.py\", line 357, in _exit_function\n",
      "    p.join()\n",
      "  File \"/home/tibvyasa/miniconda3/envs/coypu_demo/lib/python3.10/multiprocessing/process.py\", line 149, in join\n",
      "    res = self._popen.wait(timeout)\n",
      "  File \"/home/tibvyasa/miniconda3/envs/coypu_demo/lib/python3.10/multiprocessing/util.py\", line 357, in _exit_function\n",
      "    p.join()\n",
      "  File \"/home/tibvyasa/miniconda3/envs/coypu_demo/lib/python3.10/multiprocessing/util.py\", line 357, in _exit_function\n",
      "    p.join()\n",
      "  File \"/home/tibvyasa/miniconda3/envs/coypu_demo/lib/python3.10/multiprocessing/process.py\", line 149, in join\n",
      "    res = self._popen.wait(timeout)\n",
      "  File \"/home/tibvyasa/miniconda3/envs/coypu_demo/lib/python3.10/multiprocessing/process.py\", line 149, in join\n",
      "    res = self._popen.wait(timeout)\n",
      "  File \"/home/tibvyasa/miniconda3/envs/coypu_demo/lib/python3.10/multiprocessing/process.py\", line 149, in join\n",
      "    res = self._popen.wait(timeout)\n",
      "  File \"/home/tibvyasa/miniconda3/envs/coypu_demo/lib/python3.10/multiprocessing/popen_fork.py\", line 43, in wait\n",
      "    return self.poll(os.WNOHANG if timeout == 0.0 else 0)\n",
      "  File \"/home/tibvyasa/miniconda3/envs/coypu_demo/lib/python3.10/multiprocessing/popen_fork.py\", line 43, in wait\n",
      "    return self.poll(os.WNOHANG if timeout == 0.0 else 0)\n",
      "  File \"/home/tibvyasa/miniconda3/envs/coypu_demo/lib/python3.10/multiprocessing/popen_fork.py\", line 27, in poll\n",
      "    pid, sts = os.waitpid(self.pid, flag)\n",
      "  File \"/home/tibvyasa/miniconda3/envs/coypu_demo/lib/python3.10/multiprocessing/popen_fork.py\", line 43, in wait\n",
      "    return self.poll(os.WNOHANG if timeout == 0.0 else 0)\n",
      "  File \"/home/tibvyasa/miniconda3/envs/coypu_demo/lib/python3.10/multiprocessing/popen_fork.py\", line 43, in wait\n",
      "    return self.poll(os.WNOHANG if timeout == 0.0 else 0)\n",
      "  File \"/home/tibvyasa/miniconda3/envs/coypu_demo/lib/python3.10/multiprocessing/popen_fork.py\", line 27, in poll\n",
      "    pid, sts = os.waitpid(self.pid, flag)\n",
      "KeyboardInterrupt\n",
      "  File \"/home/tibvyasa/miniconda3/envs/coypu_demo/lib/python3.10/multiprocessing/popen_fork.py\", line 27, in poll\n",
      "    pid, sts = os.waitpid(self.pid, flag)\n",
      "  File \"/home/tibvyasa/miniconda3/envs/coypu_demo/lib/python3.10/multiprocessing/popen_fork.py\", line 27, in poll\n",
      "    pid, sts = os.waitpid(self.pid, flag)\n",
      "KeyboardInterrupt\n",
      "KeyboardInterrupt\n",
      "KeyboardInterrupt\n"
     ]
    }
   ],
   "source": [
    "# creating request for Federated Query\n",
    "display(\"############### Federated Query ###############\")\n",
    "fdq_request = SPARQLRequest(is_fdq=True)\n",
    "fdq_request.execute(query_test, config_public, False)\n",
    "fdq_request.save('../query_results/', 'query_test')"
   ]
  },
  {
   "cell_type": "code",
   "execution_count": 7,
   "id": "9e47c410-b348-4c1e-90cf-2abcd0aeef98",
   "metadata": {},
   "outputs": [
    {
     "name": "stdout",
     "output_type": "stream",
     "text": [
      "\n",
      "PREFIX coy: <https://schema.coypu.org/global#>\n",
      "PREFIX rdfs: <http://www.w3.org/2000/01/rdf-schema#>\n",
      "PREFIX xsd: <http://www.w3.org/2001/XMLSchema#>\n",
      "PREFIX owl: <http://www.w3.org/2002/07/owl#>\n",
      "PREFIX skos: <http://www.w3.org/2004/02/skos/core#>\n",
      "PREFIX time: <http://www.w3.org/2006/time#>\n",
      "\n",
      "PREFIX wb: <http://worldbank.org/>\n",
      "PREFIX wbi: <http://worldbank.org/Indicator/>\n",
      "PREFIX dc: <http://purl.org/dc/elements/1.1/>\n",
      "PREFIX dcterms: <http://purl.org/dc/terms/>\n",
      "PREFIX dbo: <http://dbpedia.org/ontology/>\n",
      "PREFIX geo: <https://www.geonames.org/ontology#>\n",
      "\n",
      "SELECT ?country_code ?year (AVG(?value) as ?carbon_emission) (COUNT(?disaster) as ?no_of_disasters)\n",
      "WHERE {\n",
      "    ?indicator a wb:AnnualIndicatorEntry .\n",
      "    ?indicator wb:hasIndicator <http://worldbank.org/Indicator/EN.ATM.CO2E.KT> .\n",
      "    ?indicator wb:hasCountry ?country .\n",
      "    ?indicator owl:hasValue ?value .\n",
      "    ?indicator time:year ?year .\n",
      "    ?country   dc:identifier ?country_code .\n",
      "\n",
      "    ?disaster a coy:Disaster .\n",
      "    ?disaster time:year ?year .\n",
      "    ?disaster geo:countryCode ?country_code .\n",
      "}\n",
      "GROUP BY ?country_code ?year\n",
      "ORDER BY ?year\n",
      "\n"
     ]
    },
    {
     "name": "stderr",
     "output_type": "stream",
     "text": [
      "2022-12-01 15:32:42,436 - DeTrusty.Wrapper.RDFWrapper - INFO - Contacting endpoint: https://skynet.coypu.org/coypu-internal\n",
      "2022-12-01 15:32:42,418 - DeTrusty.Wrapper.RDFWrapper - INFO - Contacting endpoint: https://labs.tib.eu/sdm/worldbank_endpoint/sparql\n",
      "2022-12-01 15:32:42,412 - DeTrusty.Wrapper.RDFWrapper - INFO - Contacting endpoint: https://skynet.coypu.org/coypu-internal\n",
      "2022-12-01 15:32:42,450 - DeTrusty.Wrapper.RDFWrapper - INFO - Contacting endpoint: https://labs.tib.eu/sdm/worldbank_endpoint/sparql\n",
      "2022-12-01 15:32:45,153 - DeTrusty.Wrapper.RDFWrapper - INFO - Contacting endpoint: https://skynet.coypu.org/coypu-internal\n",
      "2022-12-01 15:33:38,854 - DeTrusty.Wrapper.RDFWrapper - INFO - Contacting endpoint: https://skynet.coypu.org/coypu-internal\n"
     ]
    },
    {
     "name": "stdout",
     "output_type": "stream",
     "text": [
      "Total time taken by execute function: 105.27523303031921\n",
      "Index                     128\n",
      "country_code.value       3912\n",
      "country_code.type        3912\n",
      "year.value               3912\n",
      "year.type                3912\n",
      "carbon_emission.value    3912\n",
      "carbon_emission.type     3912\n",
      "no_of_disasters.value    3912\n",
      "no_of_disasters.type     3912\n",
      "__meta__.is_verified      489\n",
      "dtype: int64\n",
      "<class 'pandas.core.frame.DataFrame'>\n",
      "RangeIndex: 489 entries, 0 to 488\n",
      "Data columns (total 9 columns):\n",
      " #   Column                 Non-Null Count  Dtype \n",
      "---  ------                 --------------  ----- \n",
      " 0   country_code.value     489 non-null    object\n",
      " 1   country_code.type      489 non-null    object\n",
      " 2   year.value             489 non-null    object\n",
      " 3   year.type              489 non-null    object\n",
      " 4   carbon_emission.value  489 non-null    object\n",
      " 5   carbon_emission.type   489 non-null    object\n",
      " 6   no_of_disasters.value  489 non-null    object\n",
      " 7   no_of_disasters.type   489 non-null    object\n",
      " 8   __meta__.is_verified   489 non-null    bool  \n",
      "dtypes: bool(1), object(8)\n",
      "memory usage: 31.2+ KB\n",
      "None\n",
      "Total time taken by json_to_csv function: 0.046332597732543945\n",
      "Total time taken by save function: 0.04678058624267578\n"
     ]
    }
   ],
   "source": [
    "print(query_1_fdq_ex_1)\n",
    "\n",
    "fdq_request.execute(query_1_fdq_ex_1, config_private, False)\n",
    "fdq_request.save('../query_results/', 'query_1_fdq_ex_1')"
   ]
  },
  {
   "cell_type": "code",
   "execution_count": 8,
   "id": "ab400c3f-c92b-4b6e-b051-ef5530f75ddc",
   "metadata": {},
   "outputs": [
    {
     "data": {
      "text/html": [
       "<div>\n",
       "<style scoped>\n",
       "    .dataframe tbody tr th:only-of-type {\n",
       "        vertical-align: middle;\n",
       "    }\n",
       "\n",
       "    .dataframe tbody tr th {\n",
       "        vertical-align: top;\n",
       "    }\n",
       "\n",
       "    .dataframe thead th {\n",
       "        text-align: right;\n",
       "    }\n",
       "</style>\n",
       "<table border=\"1\" class=\"dataframe\">\n",
       "  <thead>\n",
       "    <tr style=\"text-align: right;\">\n",
       "      <th></th>\n",
       "      <th>country_code</th>\n",
       "      <th>year</th>\n",
       "      <th>carbon_emission</th>\n",
       "      <th>no_of_disasters</th>\n",
       "      <th>carbon_emission(1e6)</th>\n",
       "    </tr>\n",
       "  </thead>\n",
       "  <tbody>\n",
       "    <tr>\n",
       "      <th>488</th>\n",
       "      <td>SVK</td>\n",
       "      <td>2000</td>\n",
       "      <td>38070.0</td>\n",
       "      <td>4</td>\n",
       "      <td>0.00-0.25</td>\n",
       "    </tr>\n",
       "    <tr>\n",
       "      <th>462</th>\n",
       "      <td>MKD</td>\n",
       "      <td>2000</td>\n",
       "      <td>8760.0</td>\n",
       "      <td>4</td>\n",
       "      <td>0.00-0.25</td>\n",
       "    </tr>\n",
       "    <tr>\n",
       "      <th>463</th>\n",
       "      <td>GRC</td>\n",
       "      <td>2000</td>\n",
       "      <td>94460.0</td>\n",
       "      <td>32</td>\n",
       "      <td>0.00-0.25</td>\n",
       "    </tr>\n",
       "    <tr>\n",
       "      <th>464</th>\n",
       "      <td>ESP</td>\n",
       "      <td>2000</td>\n",
       "      <td>293310.0</td>\n",
       "      <td>36</td>\n",
       "      <td>0.25-0.5</td>\n",
       "    </tr>\n",
       "    <tr>\n",
       "      <th>465</th>\n",
       "      <td>AUT</td>\n",
       "      <td>2000</td>\n",
       "      <td>63530.0</td>\n",
       "      <td>12</td>\n",
       "      <td>0.00-0.25</td>\n",
       "    </tr>\n",
       "    <tr>\n",
       "      <th>466</th>\n",
       "      <td>RUS</td>\n",
       "      <td>2000</td>\n",
       "      <td>1563850.0</td>\n",
       "      <td>136</td>\n",
       "      <td>&gt; 0.75</td>\n",
       "    </tr>\n",
       "    <tr>\n",
       "      <th>467</th>\n",
       "      <td>LVA</td>\n",
       "      <td>2000</td>\n",
       "      <td>6930.0</td>\n",
       "      <td>4</td>\n",
       "      <td>0.00-0.25</td>\n",
       "    </tr>\n",
       "    <tr>\n",
       "      <th>468</th>\n",
       "      <td>PRT</td>\n",
       "      <td>2000</td>\n",
       "      <td>61660.0</td>\n",
       "      <td>4</td>\n",
       "      <td>0.00-0.25</td>\n",
       "    </tr>\n",
       "    <tr>\n",
       "      <th>469</th>\n",
       "      <td>ITA</td>\n",
       "      <td>2000</td>\n",
       "      <td>436300.0</td>\n",
       "      <td>20</td>\n",
       "      <td>0.25-0.5</td>\n",
       "    </tr>\n",
       "    <tr>\n",
       "      <th>470</th>\n",
       "      <td>NLD</td>\n",
       "      <td>2000</td>\n",
       "      <td>162100.0</td>\n",
       "      <td>4</td>\n",
       "      <td>0.00-0.25</td>\n",
       "    </tr>\n",
       "  </tbody>\n",
       "</table>\n",
       "</div>"
      ],
      "text/plain": [
       "    country_code  year  carbon_emission  no_of_disasters carbon_emission(1e6)\n",
       "488          SVK  2000          38070.0                4            0.00-0.25\n",
       "462          MKD  2000           8760.0                4            0.00-0.25\n",
       "463          GRC  2000          94460.0               32            0.00-0.25\n",
       "464          ESP  2000         293310.0               36             0.25-0.5\n",
       "465          AUT  2000          63530.0               12            0.00-0.25\n",
       "466          RUS  2000        1563850.0              136               > 0.75\n",
       "467          LVA  2000           6930.0                4            0.00-0.25\n",
       "468          PRT  2000          61660.0                4            0.00-0.25\n",
       "469          ITA  2000         436300.0               20             0.25-0.5\n",
       "470          NLD  2000         162100.0                4            0.00-0.25"
      ]
     },
     "execution_count": 8,
     "metadata": {},
     "output_type": "execute_result"
    }
   ],
   "source": [
    "def carbon_emission_group(carbon_emission):\n",
    "    if carbon_emission/1000000 < 0.25:\n",
    "        return '0.00-0.25'\n",
    "    elif carbon_emission/1000000 >= 0.25 and carbon_emission/1000000 < 0.5:\n",
    "        return '0.25-0.5'\n",
    "    elif carbon_emission/1000000 >= 0.5 and carbon_emission/1000000 < 0.75:\n",
    "        return '0.50-0.75'\n",
    "    else:\n",
    "        return '> 0.75'\n",
    "    \n",
    "\n",
    "df = pd.read_csv('../query_results/query_1_fdq_ex_1.csv', encoding='utf-8')\n",
    "df.rename(columns=lambda x: x.replace('.value', ''), inplace=True)\n",
    "df['carbon_emission(1e6)'] = df['carbon_emission'].apply(carbon_emission_group)\n",
    "df.sort_values(by='year', ascending=True, inplace=True)\n",
    "\n",
    "df.head(10)"
   ]
  },
  {
   "cell_type": "code",
   "execution_count": 9,
   "id": "815e669d-34f1-4637-ab70-427021f4e240",
   "metadata": {},
   "outputs": [],
   "source": [
    "\n",
    "fig = px.scatter_geo(df, locations=\"country_code\", color=\"carbon_emission(1e6)\",\n",
    "                     hover_data=['carbon_emission'], size=\"no_of_disasters\",\n",
    "                     animation_frame=\"year\",\n",
    "                     projection=\"equirectangular\", scope='europe')\n",
    "fig.update_layout(title_text='Carbon emission and the number of disaster events for various countries across years',\\\n",
    "                  title_font_color=\"red\", title_font_family=\"Times New Roman\", title_font_size=25)\n",
    "fig.write_html('../query_results/query_1_fdq_ex_1.html')\n",
    "fig.show()"
   ]
  },
  {
   "cell_type": "code",
   "execution_count": null,
   "id": "99b594eb-db68-44b5-a305-389fbcd6f8ac",
   "metadata": {},
   "outputs": [],
   "source": []
  }
 ],
 "metadata": {
  "kernelspec": {
   "display_name": "Python 3 (ipykernel)",
   "language": "python",
   "name": "python3"
  },
  "language_info": {
   "codemirror_mode": {
    "name": "ipython",
    "version": 3
   },
   "file_extension": ".py",
   "mimetype": "text/x-python",
   "name": "python",
   "nbconvert_exporter": "python",
   "pygments_lexer": "ipython3",
   "version": "3.10.8"
  },
  "toc-autonumbering": true,
  "toc-showcode": true,
  "toc-showmarkdowntxt": true,
  "vscode": {
   "interpreter": {
    "hash": "1f01d2debc0dab2131111cf4fcc295bf8655e407cc17f23f4d91786b78fe5ca1"
   }
  }
 },
 "nbformat": 4,
 "nbformat_minor": 5
}
