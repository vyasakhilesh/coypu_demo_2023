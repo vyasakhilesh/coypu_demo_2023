{
 "cells": [
  {
   "cell_type": "markdown",
   "id": "dcec454e-169c-4130-8ce1-ee43d832aa60",
   "metadata": {},
   "source": [
    "\"title\": \"My Title!\",\n",
    "\"authors\": [\n",
    "  { \"name\": \"Author1\" },\n",
    "  { \"name\": \"Author2\" }\n",
    "]"
   ]
  },
  {
   "cell_type": "code",
   "execution_count": null,
   "id": "e43a832b-107e-48b8-a415-6756253f7f96",
   "metadata": {},
   "outputs": [],
   "source": [
    "%%bash\n",
    "# install packages\n",
    "pip install -r ../requirements.txt"
   ]
  },
  {
   "cell_type": "code",
   "execution_count": null,
   "id": "75394514-8b89-4c8c-987c-3207f9c03d17",
   "metadata": {},
   "outputs": [],
   "source": [
    "# Third party packages\n",
    "import pandas as pd\n",
    "import plotly.express as px\n",
    "import plotly.io as pio\n",
    "pio.renderers.default = \"browser\"\n",
    "import matplotlib.pyplot as plt\n",
    "from io import StringIO\n",
    "\n",
    "from os.path import abspath\n",
    "import sys\n",
    "sys.path.insert(0, abspath('..'))\n",
    "\n",
    "from query_request import *\n",
    "from query_def import *\n",
    "import credentials\n",
    "# from sqlalchemy import create_engine\n",
    "\n",
    "pd.options.display.max_rows = 999\n",
    "pd.options.display.max_columns = 999\n",
    "pd.options.display.max_colwidth=None\n"
   ]
  },
  {
   "cell_type": "code",
   "execution_count": null,
   "id": "30fcc3c8-f61f-47a2-ba6b-c22b32ba8471",
   "metadata": {},
   "outputs": [],
   "source": [
    "# Demo for LDM\n",
    "\n",
    "# Upload dataset\n",
    "# downlaod dataset"
   ]
  },
  {
   "cell_type": "code",
   "execution_count": null,
   "id": "0ea0cecb-4073-4abd-8ec8-2871e021ccb6",
   "metadata": {},
   "outputs": [],
   "source": [
    "# Demo for dragoman"
   ]
  },
  {
   "cell_type": "code",
   "execution_count": null,
   "id": "99714d3e-ecaa-4e0c-86ac-f0cecb571381",
   "metadata": {},
   "outputs": [],
   "source": [
    "%%time\n",
    "from rdfizer.semantify import semantify\n",
    "semantify('../configs/config.ini')"
   ]
  },
  {
   "cell_type": "code",
   "execution_count": null,
   "id": "2ae35b81-d235-44c2-8160-6ba7faaf11ec",
   "metadata": {},
   "outputs": [],
   "source": [
    "# create rdfmts\n",
    "from DeTrusty import run_query\n",
    "from DeTrusty.Molecule.MTCreation import create_rdfmts\n",
    "from DeTrusty.Molecule.MTManager import ConfigFile\n",
    "\n",
    "# Creating endponts dictionary\n",
    "endpoints = dictfrmjson('../configs/endpoints_public.json')\n",
    "print(endpoints)\n",
    "\n",
    "# Creating RDF molecule template\n",
    "# log_rdf = create_rdfmts(endpoints, '../configs/rdfmts.json')\n",
    "\n",
    "log_rdf = create_rdfmts(endpoints, '../configs/rdfmts_public.json')\n",
    "# if already rdfmts has been created \n",
    "#config = ConfigFile('../configs/rdfmts_backup.json')"
   ]
  },
  {
   "cell_type": "code",
   "execution_count": null,
   "id": "c87047ac-b265-460a-a20d-2b917e3fa4fd",
   "metadata": {},
   "outputs": [],
   "source": [
    "# Creating \n",
    "# cmemc_request = SPARQLRequest(client_url_imp, client_id_imp, client_secret_imp , 'oauth')\n",
    "\n",
    "skynet_request = SPARQLRequest(skynet_endpoint, skynet_user, skynet_pass, 'basic')\n",
    "\n",
    "# fdquery_request = SPARQLRequest(\"http://localhost:5002/sparql\", is_fdq=True) for docker\n",
    "\n",
    "# otherwise\n",
    "\n",
    "run_query(query_1_fdq, config=config, join_stars_locally=False)\n"
   ]
  },
  {
   "cell_type": "code",
   "execution_count": null,
   "id": "6edd89ff",
   "metadata": {},
   "outputs": [],
   "source": [
    "# Executing test query on Skynet server\n",
    "print(query_0)\n",
    "skynet_request.execute(query_0)\n",
    "buf = StringIO(skynet_request.response.content.decode('utf-8'), newline='\\r\\n')          \n",
    "pd.read_csv(buf, encoding='utf-8')"
   ]
  },
  {
   "cell_type": "code",
   "execution_count": null,
   "id": "9e47c410-b348-4c1e-90cf-2abcd0aeef98",
   "metadata": {},
   "outputs": [],
   "source": [
    "print(query_1_fdq_desc)\n",
    "print(query_1_fdq)\n",
    "print('########################### EXAMPLE ##########################\\n{}'.format(query_1_fdq_ex))\n",
    "fdquery.post_query(query_1_fdq_ex)\n",
    "fdquery.to_save('../../query_results/', filename='query_1_fdq_ex')"
   ]
  },
  {
   "cell_type": "code",
   "execution_count": null,
   "id": "0750d006-d504-4e2a-9d20-759f16e9137a",
   "metadata": {},
   "outputs": [],
   "source": [
    "query_1_fdq"
   ]
  },
  {
   "cell_type": "code",
   "execution_count": null,
   "id": "11678928-c669-4d72-996a-af3e0c0723bf",
   "metadata": {},
   "outputs": [],
   "source": [
    "from sqlalchemy import create_engine\n",
    "\n",
    "engine = create_engine(\n",
    "        \"mysql+pymysql://{user}:{pw}@{hostname}:{portno}/{db}\".format(\n",
    "            hostname=host, db=dbname, user=uname, pw=pwd, portno=port\n",
    "        ),)\n",
    "\n",
    "df = pd.read_csv('../../query_results/query_1_fdq_ex.csv', encoding='utf-8')\n",
    "df.rename(columns=lambda x: x.replace('.value', ''), inplace=True)\n",
    "try:\n",
    "    df.to_sql('query_1_fdq_ex', con=engine, if_exists='fail', index=False)\n",
    "except Exception as e:\n",
    "    print('Exeception: {}',e)"
   ]
  },
  {
   "cell_type": "code",
   "execution_count": null,
   "id": "6cc78219-5839-4489-840b-5011adf46853",
   "metadata": {},
   "outputs": [],
   "source": [
    "from sqlalchemy import create_engine\n",
    "\n",
    "engine = create_engine(\n",
    "        \"mysql+pymysql://{user}:{pw}@{hostname}:{portno}/{db}\".format(\n",
    "            hostname=host, db=dbname, user=uname, pw=pwd, portno=port\n",
    "        ),)\n",
    "\n",
    "query_1_fdq_ex_sql = \"\"\"SELECT country_code, year, AVG(value) as carbon_emission, COUNT(disaster) AS no_of_disasters\n",
    "FROM `query_1_fdq_ex`\n",
    "WHERE year=year_dis\n",
    "GROUP By country_code, year\n",
    "Order By  year ASC\n",
    "\"\"\"\n",
    "\n",
    "df = pd.read_sql(query_1_fdq_ex_sql, con=engine)\n",
    "\n",
    "df.to_csv('../../query_results/query_1_fdq_ex_sql.csv', encoding='utf-8', index=False)"
   ]
  },
  {
   "cell_type": "code",
   "execution_count": null,
   "id": "ab400c3f-c92b-4b6e-b051-ef5530f75ddc",
   "metadata": {},
   "outputs": [],
   "source": [
    "def carbon_emission_group(carbon_emission):\n",
    "    if carbon_emission/1000000 < 0.25:\n",
    "        return '0.00-0.25'\n",
    "    elif carbon_emission/1000000 >= 0.25 and carbon_emission/1000000 < 0.5:\n",
    "        return '0.25-0.5'\n",
    "    elif carbon_emission/1000000 >= 0.5 and carbon_emission/1000000 < 0.75:\n",
    "        return '0.50-0.75'\n",
    "    else:\n",
    "        return '> 0.75'\n",
    "    \n",
    "\n",
    "df = pd.read_csv('../../query_results/query_1_fdq_ex_sql.csv', encoding='utf-8')\n",
    "df['carbon_emission(1e6)'] = df['carbon_emission'].apply(carbon_emission_group)\n",
    "\n",
    "df.head(10)"
   ]
  },
  {
   "cell_type": "code",
   "execution_count": null,
   "id": "815e669d-34f1-4637-ab70-427021f4e240",
   "metadata": {},
   "outputs": [],
   "source": [
    "\n",
    "fig = px.scatter_geo(df, locations=\"country_code\", color=\"carbon_emission(1e6)\",\n",
    "                     hover_data=['carbon_emission'], size=\"no_of_disasters\",\n",
    "                     animation_frame=\"year\",\n",
    "                     projection=\"equirectangular\", scope='europe')\n",
    "fig.update_layout(title_text='Carbon emission and the number of disaster events for various countries across years',\\\n",
    "                  title_font_color=\"red\", title_font_family=\"Times New Roman\", title_font_size=25)\n",
    "fig.write_html('../../query_results/query_1_fdq_ex_sql_new.html')\n",
    "fig.show()"
   ]
  },
  {
   "cell_type": "code",
   "execution_count": null,
   "id": "92c4bf74-2811-4aa6-8f74-f2e39fedf608",
   "metadata": {},
   "outputs": [],
   "source": []
  }
 ],
 "metadata": {
  "kernelspec": {
   "display_name": "Python 3 (ipykernel)",
   "language": "python",
   "name": "python3"
  },
  "language_info": {
   "codemirror_mode": {
    "name": "ipython",
    "version": 3
   },
   "file_extension": ".py",
   "mimetype": "text/x-python",
   "name": "python",
   "nbconvert_exporter": "python",
   "pygments_lexer": "ipython3",
   "version": "3.10.8"
  },
  "toc-showcode": true,
  "vscode": {
   "interpreter": {
    "hash": "1f01d2debc0dab2131111cf4fcc295bf8655e407cc17f23f4d91786b78fe5ca1"
   }
  }
 },
 "nbformat": 4,
 "nbformat_minor": 5
}
