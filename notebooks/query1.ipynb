{
 "cells": [
  {
   "cell_type": "raw",
   "id": "9f44cf57-366f-4544-85a2-3f39962f2a4f",
   "metadata": {},
   "source": [
    "%%bash\n",
    "# install python packages using requirements.txt file\n",
    "pip install -r ../requirements.txt"
   ]
  },
  {
   "cell_type": "code",
   "execution_count": 1,
   "id": "75394514-8b89-4c8c-987c-3207f9c03d17",
   "metadata": {},
   "outputs": [
    {
     "name": "stdout",
     "output_type": "stream",
     "text": [
      "\n"
     ]
    }
   ],
   "source": [
    "# Third party packages\n",
    "import pandas as pd\n",
    "import plotly.express as px\n",
    "import plotly.io as pio\n",
    "pio.renderers.default = \"browser\"\n",
    "import matplotlib.pyplot as plt\n",
    "from io import StringIO\n",
    "from IPython.display import display\n",
    "\n",
    "# Adding path\n",
    "from os.path import abspath\n",
    "import sys\n",
    "sys.path.insert(0, abspath('..'))\n",
    "\n",
    "# \n",
    "from query_request import *\n",
    "from query_def import *\n",
    "import credentials\n",
    "# from sqlalchemy import create_engine\n",
    "\n",
    "# pandas display settings\n",
    "pd.options.display.max_rows = 999\n",
    "pd.options.display.max_columns = 999\n",
    "pd.options.display.max_colwidth=None\n"
   ]
  },
  {
   "cell_type": "code",
   "execution_count": 2,
   "id": "30fcc3c8-f61f-47a2-ba6b-c22b32ba8471",
   "metadata": {},
   "outputs": [],
   "source": [
    "# Demo for LDM\n",
    "\n",
    "# Upload dataset\n",
    "# downlaod dataset"
   ]
  },
  {
   "cell_type": "code",
   "execution_count": 3,
   "id": "0ea0cecb-4073-4abd-8ec8-2871e021ccb6",
   "metadata": {},
   "outputs": [],
   "source": [
    "# Demo for dragoman"
   ]
  },
  {
   "cell_type": "raw",
   "id": "311373a2-2f6a-4367-b495-cda58b9e7319",
   "metadata": {},
   "source": [
    "%%time\n",
    "# for transforming datset into Knowlege graphs using SDM-RDFizer python library\n",
    "from rdfizer.semantify import semantify\n",
    "semantify('../configs/config.ini')"
   ]
  },
  {
   "cell_type": "markdown",
   "id": "1c41a72e-10a9-4b29-a5b2-8bc66c99489c",
   "metadata": {},
   "source": [
    "# [Creating Endpoint](../configs/docker_command_icews.sh)"
   ]
  },
  {
   "cell_type": "raw",
   "id": "a680b523-95d1-4a0e-ac43-fb06754c66c1",
   "metadata": {},
   "source": [
    "%%bash\n",
    "# if you have access to TIB server execute this cell\n",
    "# load data to triple store\n",
    "# copy data to server\n",
    "rsync -avP ../kgdata/icews.nt node2:/data/coypu/icews_endpoint/data_load\n",
    "\n",
    "# create endpoint on server\n",
    "scp ../configs/docker_command_icews.sh node2:/data/coypu/icews_endpoint/\n",
    "ssh node2 'cd /data/coypu/lei_endpoint/ && ./docker_command_lei.sh >out 2>error &'"
   ]
  },
  {
   "cell_type": "code",
   "execution_count": 4,
   "id": "2ae35b81-d235-44c2-8160-6ba7faaf11ec",
   "metadata": {},
   "outputs": [
    {
     "name": "stdout",
     "output_type": "stream",
     "text": [
      "Total time taken by dictfrmjson function: 4.9591064453125e-05\n",
      "{'https://labs.tib.eu/sdm/worldbank_endpoint/sparql': {}, 'https://labs.tib.eu/sdm/icews_endpoint/sparql': {}, 'https://labs.tib.eu/sdm/lei_endpoint/sparql': {}, 'https://skynet.coypu.org/coypu-internal': {'username': 'Your UserName', 'password': 'Your Password'}}\n"
     ]
    }
   ],
   "source": [
    "# create rdfmts\n",
    "from DeTrusty import run_query\n",
    "from DeTrusty.Molecule.MTCreation import create_rdfmts\n",
    "from DeTrusty.Molecule.MTManager import ConfigFile\n",
    "\n",
    "# Creating endpoints dictionary\n",
    "endpoints = dictfrmjson('../configs/endpoints_sample.json')\n",
    "print(endpoints)\n",
    "\n",
    "# Creating RDF molecule template (rdfmts) from endpoints\n",
    "# log_rdfmts = create_rdfmts(endpoints, '../configs/rdfmts.json')\n",
    "\n",
    "# if already rdfmts has been created \n",
    "config_private = ConfigFile('../configs/rdfmts_private.json')\n",
    "config_public = ConfigFile('../configs/rdfmts_public.json')"
   ]
  },
  {
   "cell_type": "markdown",
   "id": "b2561813-85b1-4d4f-992a-f16d4b37fb7c",
   "metadata": {},
   "source": [
    "## Endpoints Status"
   ]
  },
  {
   "cell_type": "code",
   "execution_count": 5,
   "id": "c87047ac-b265-460a-a20d-2b917e3fa4fd",
   "metadata": {},
   "outputs": [
    {
     "data": {
      "text/plain": [
       "'############### Cmemc Endpoint ###############'"
      ]
     },
     "metadata": {},
     "output_type": "display_data"
    },
    {
     "name": "stdout",
     "output_type": "stream",
     "text": [
      "Passed Query Status: 200\n",
      "Total time taken by execute function: 0.40321803092956543\n"
     ]
    },
    {
     "data": {
      "text/html": [
       "<div>\n",
       "<style scoped>\n",
       "    .dataframe tbody tr th:only-of-type {\n",
       "        vertical-align: middle;\n",
       "    }\n",
       "\n",
       "    .dataframe tbody tr th {\n",
       "        vertical-align: top;\n",
       "    }\n",
       "\n",
       "    .dataframe thead th {\n",
       "        text-align: right;\n",
       "    }\n",
       "</style>\n",
       "<table border=\"1\" class=\"dataframe\">\n",
       "  <thead>\n",
       "    <tr style=\"text-align: right;\">\n",
       "      <th></th>\n",
       "      <th>Subject</th>\n",
       "      <th>Concept</th>\n",
       "    </tr>\n",
       "  </thead>\n",
       "  <tbody>\n",
       "    <tr>\n",
       "      <th>995</th>\n",
       "      <td>https://vocab.eccenca.com/shacl/GraphTemplateJinjaTemplatePropertyShape</td>\n",
       "      <td>http://www.w3.org/2000/01/rdf-schema#Resource</td>\n",
       "    </tr>\n",
       "    <tr>\n",
       "      <th>996</th>\n",
       "      <td>https://vocab.eccenca.com/shacl/GraphTemplateJinjaTemplatePropertyShape</td>\n",
       "      <td>http://www.w3.org/ns/shacl#PropertyShape</td>\n",
       "    </tr>\n",
       "    <tr>\n",
       "      <th>997</th>\n",
       "      <td>https://vocab.eccenca.com/shui/jinjaTemplateString</td>\n",
       "      <td>http://www.w3.org/1999/02/22-rdf-syntax-ns#Property</td>\n",
       "    </tr>\n",
       "    <tr>\n",
       "      <th>998</th>\n",
       "      <td>https://vocab.eccenca.com/shui/jinjaTemplateString</td>\n",
       "      <td>http://www.w3.org/2000/01/rdf-schema#Resource</td>\n",
       "    </tr>\n",
       "    <tr>\n",
       "      <th>999</th>\n",
       "      <td>https://vocab.eccenca.com/shui/jinjaTemplateString</td>\n",
       "      <td>http://www.w3.org/2002/07/owl#DatatypeProperty</td>\n",
       "    </tr>\n",
       "  </tbody>\n",
       "</table>\n",
       "</div>"
      ],
      "text/plain": [
       "                                                                     Subject  \\\n",
       "995  https://vocab.eccenca.com/shacl/GraphTemplateJinjaTemplatePropertyShape   \n",
       "996  https://vocab.eccenca.com/shacl/GraphTemplateJinjaTemplatePropertyShape   \n",
       "997                       https://vocab.eccenca.com/shui/jinjaTemplateString   \n",
       "998                       https://vocab.eccenca.com/shui/jinjaTemplateString   \n",
       "999                       https://vocab.eccenca.com/shui/jinjaTemplateString   \n",
       "\n",
       "                                                 Concept  \n",
       "995        http://www.w3.org/2000/01/rdf-schema#Resource  \n",
       "996             http://www.w3.org/ns/shacl#PropertyShape  \n",
       "997  http://www.w3.org/1999/02/22-rdf-syntax-ns#Property  \n",
       "998        http://www.w3.org/2000/01/rdf-schema#Resource  \n",
       "999       http://www.w3.org/2002/07/owl#DatatypeProperty  "
      ]
     },
     "metadata": {},
     "output_type": "display_data"
    },
    {
     "data": {
      "text/plain": [
       "'############### Skynet Endpoint ###############'"
      ]
     },
     "metadata": {},
     "output_type": "display_data"
    },
    {
     "name": "stdout",
     "output_type": "stream",
     "text": [
      "Passed Query Status: 200\n",
      "Total time taken by execute function: 0.06522750854492188\n"
     ]
    },
    {
     "data": {
      "text/html": [
       "<div>\n",
       "<style scoped>\n",
       "    .dataframe tbody tr th:only-of-type {\n",
       "        vertical-align: middle;\n",
       "    }\n",
       "\n",
       "    .dataframe tbody tr th {\n",
       "        vertical-align: top;\n",
       "    }\n",
       "\n",
       "    .dataframe thead th {\n",
       "        text-align: right;\n",
       "    }\n",
       "</style>\n",
       "<table border=\"1\" class=\"dataframe\">\n",
       "  <thead>\n",
       "    <tr style=\"text-align: right;\">\n",
       "      <th></th>\n",
       "      <th>Subject</th>\n",
       "      <th>Concept</th>\n",
       "    </tr>\n",
       "  </thead>\n",
       "  <tbody>\n",
       "    <tr>\n",
       "      <th>995</th>\n",
       "      <td>https://data.coypu.org/event/reliefweb/12420</td>\n",
       "      <td>https://schema.coypu.org/global#Disaster</td>\n",
       "    </tr>\n",
       "    <tr>\n",
       "      <th>996</th>\n",
       "      <td>https://data.coypu.org/event/reliefweb/12044</td>\n",
       "      <td>https://schema.coypu.org/global#Disaster</td>\n",
       "    </tr>\n",
       "    <tr>\n",
       "      <th>997</th>\n",
       "      <td>https://data.coypu.org/event/reliefweb/12026</td>\n",
       "      <td>https://schema.coypu.org/global#Disaster</td>\n",
       "    </tr>\n",
       "    <tr>\n",
       "      <th>998</th>\n",
       "      <td>https://data.coypu.org/event/reliefweb/11988</td>\n",
       "      <td>https://schema.coypu.org/global#Disaster</td>\n",
       "    </tr>\n",
       "    <tr>\n",
       "      <th>999</th>\n",
       "      <td>https://data.coypu.org/event/reliefweb/11971</td>\n",
       "      <td>https://schema.coypu.org/global#Disaster</td>\n",
       "    </tr>\n",
       "  </tbody>\n",
       "</table>\n",
       "</div>"
      ],
      "text/plain": [
       "                                          Subject  \\\n",
       "995  https://data.coypu.org/event/reliefweb/12420   \n",
       "996  https://data.coypu.org/event/reliefweb/12044   \n",
       "997  https://data.coypu.org/event/reliefweb/12026   \n",
       "998  https://data.coypu.org/event/reliefweb/11988   \n",
       "999  https://data.coypu.org/event/reliefweb/11971   \n",
       "\n",
       "                                      Concept  \n",
       "995  https://schema.coypu.org/global#Disaster  \n",
       "996  https://schema.coypu.org/global#Disaster  \n",
       "997  https://schema.coypu.org/global#Disaster  \n",
       "998  https://schema.coypu.org/global#Disaster  \n",
       "999  https://schema.coypu.org/global#Disaster  "
      ]
     },
     "metadata": {},
     "output_type": "display_data"
    },
    {
     "data": {
      "text/plain": [
       "'############### Worldbank Endpoint ###############'"
      ]
     },
     "metadata": {},
     "output_type": "display_data"
    },
    {
     "name": "stdout",
     "output_type": "stream",
     "text": [
      "Passed Query Status: 200\n",
      "Total time taken by execute function: 0.08317041397094727\n"
     ]
    },
    {
     "data": {
      "text/plain": [
       "200"
      ]
     },
     "metadata": {},
     "output_type": "display_data"
    },
    {
     "data": {
      "text/html": [
       "<div>\n",
       "<style scoped>\n",
       "    .dataframe tbody tr th:only-of-type {\n",
       "        vertical-align: middle;\n",
       "    }\n",
       "\n",
       "    .dataframe tbody tr th {\n",
       "        vertical-align: top;\n",
       "    }\n",
       "\n",
       "    .dataframe thead th {\n",
       "        text-align: right;\n",
       "    }\n",
       "</style>\n",
       "<table border=\"1\" class=\"dataframe\">\n",
       "  <thead>\n",
       "    <tr style=\"text-align: right;\">\n",
       "      <th></th>\n",
       "      <th>Subject</th>\n",
       "      <th>Concept</th>\n",
       "    </tr>\n",
       "  </thead>\n",
       "  <tbody>\n",
       "    <tr>\n",
       "      <th>995</th>\n",
       "      <td>http://worldbank.org/Indicator/SH.HIV.ARTC.ZS</td>\n",
       "      <td>http://worldbank.org/Indicator</td>\n",
       "    </tr>\n",
       "    <tr>\n",
       "      <th>996</th>\n",
       "      <td>http://worldbank.org/Indicator/SH.HIV.INCD</td>\n",
       "      <td>http://worldbank.org/Indicator</td>\n",
       "    </tr>\n",
       "    <tr>\n",
       "      <th>997</th>\n",
       "      <td>http://worldbank.org/Indicator/SH.HIV.INCD.14</td>\n",
       "      <td>http://worldbank.org/Indicator</td>\n",
       "    </tr>\n",
       "    <tr>\n",
       "      <th>998</th>\n",
       "      <td>http://worldbank.org/Indicator/SH.HIV.INCD.TL</td>\n",
       "      <td>http://worldbank.org/Indicator</td>\n",
       "    </tr>\n",
       "    <tr>\n",
       "      <th>999</th>\n",
       "      <td>http://worldbank.org/Indicator/SH.HIV.INCD.TL.P3</td>\n",
       "      <td>http://worldbank.org/Indicator</td>\n",
       "    </tr>\n",
       "  </tbody>\n",
       "</table>\n",
       "</div>"
      ],
      "text/plain": [
       "                                              Subject  \\\n",
       "995     http://worldbank.org/Indicator/SH.HIV.ARTC.ZS   \n",
       "996        http://worldbank.org/Indicator/SH.HIV.INCD   \n",
       "997     http://worldbank.org/Indicator/SH.HIV.INCD.14   \n",
       "998     http://worldbank.org/Indicator/SH.HIV.INCD.TL   \n",
       "999  http://worldbank.org/Indicator/SH.HIV.INCD.TL.P3   \n",
       "\n",
       "                            Concept  \n",
       "995  http://worldbank.org/Indicator  \n",
       "996  http://worldbank.org/Indicator  \n",
       "997  http://worldbank.org/Indicator  \n",
       "998  http://worldbank.org/Indicator  \n",
       "999  http://worldbank.org/Indicator  "
      ]
     },
     "metadata": {},
     "output_type": "display_data"
    },
    {
     "data": {
      "text/plain": [
       "'############### LEI Endpoint ###############'"
      ]
     },
     "metadata": {},
     "output_type": "display_data"
    },
    {
     "name": "stdout",
     "output_type": "stream",
     "text": [
      "Passed Query Status: 200\n",
      "Total time taken by execute function: 0.06196999549865723\n"
     ]
    },
    {
     "data": {
      "text/html": [
       "<div>\n",
       "<style scoped>\n",
       "    .dataframe tbody tr th:only-of-type {\n",
       "        vertical-align: middle;\n",
       "    }\n",
       "\n",
       "    .dataframe tbody tr th {\n",
       "        vertical-align: top;\n",
       "    }\n",
       "\n",
       "    .dataframe thead th {\n",
       "        text-align: right;\n",
       "    }\n",
       "</style>\n",
       "<table border=\"1\" class=\"dataframe\">\n",
       "  <thead>\n",
       "    <tr style=\"text-align: right;\">\n",
       "      <th></th>\n",
       "      <th>Subject</th>\n",
       "      <th>Concept</th>\n",
       "    </tr>\n",
       "  </thead>\n",
       "  <tbody>\n",
       "    <tr>\n",
       "      <th>995</th>\n",
       "      <td>https://data.coypu.org/lei/2138006HHBEMF1TGWU29-LA</td>\n",
       "      <td>https://www.gleif.org/ontology/Base/PhysicalAddress</td>\n",
       "    </tr>\n",
       "    <tr>\n",
       "      <th>996</th>\n",
       "      <td>https://data.coypu.org/lei/2138006HHUG8LC4UD387-LA</td>\n",
       "      <td>https://www.gleif.org/ontology/Base/PhysicalAddress</td>\n",
       "    </tr>\n",
       "    <tr>\n",
       "      <th>997</th>\n",
       "      <td>https://data.coypu.org/lei/2138006HHXWLEK5WVK02-LA</td>\n",
       "      <td>https://www.gleif.org/ontology/Base/PhysicalAddress</td>\n",
       "    </tr>\n",
       "    <tr>\n",
       "      <th>998</th>\n",
       "      <td>https://data.coypu.org/lei/2138006HI1P4JTM2WM22-LA</td>\n",
       "      <td>https://www.gleif.org/ontology/Base/PhysicalAddress</td>\n",
       "    </tr>\n",
       "    <tr>\n",
       "      <th>999</th>\n",
       "      <td>https://data.coypu.org/lei/2138006HI5AF5E1P4T95-LA</td>\n",
       "      <td>https://www.gleif.org/ontology/Base/PhysicalAddress</td>\n",
       "    </tr>\n",
       "  </tbody>\n",
       "</table>\n",
       "</div>"
      ],
      "text/plain": [
       "                                                Subject  \\\n",
       "995  https://data.coypu.org/lei/2138006HHBEMF1TGWU29-LA   \n",
       "996  https://data.coypu.org/lei/2138006HHUG8LC4UD387-LA   \n",
       "997  https://data.coypu.org/lei/2138006HHXWLEK5WVK02-LA   \n",
       "998  https://data.coypu.org/lei/2138006HI1P4JTM2WM22-LA   \n",
       "999  https://data.coypu.org/lei/2138006HI5AF5E1P4T95-LA   \n",
       "\n",
       "                                                 Concept  \n",
       "995  https://www.gleif.org/ontology/Base/PhysicalAddress  \n",
       "996  https://www.gleif.org/ontology/Base/PhysicalAddress  \n",
       "997  https://www.gleif.org/ontology/Base/PhysicalAddress  \n",
       "998  https://www.gleif.org/ontology/Base/PhysicalAddress  \n",
       "999  https://www.gleif.org/ontology/Base/PhysicalAddress  "
      ]
     },
     "metadata": {},
     "output_type": "display_data"
    },
    {
     "data": {
      "text/plain": [
       "'############### ICEWS Endpoint ###############'"
      ]
     },
     "metadata": {},
     "output_type": "display_data"
    },
    {
     "name": "stdout",
     "output_type": "stream",
     "text": [
      "Passed Query Status: 200\n",
      "Total time taken by execute function: 0.0616455078125\n"
     ]
    },
    {
     "data": {
      "text/html": [
       "<div>\n",
       "<style scoped>\n",
       "    .dataframe tbody tr th:only-of-type {\n",
       "        vertical-align: middle;\n",
       "    }\n",
       "\n",
       "    .dataframe tbody tr th {\n",
       "        vertical-align: top;\n",
       "    }\n",
       "\n",
       "    .dataframe thead th {\n",
       "        text-align: right;\n",
       "    }\n",
       "</style>\n",
       "<table border=\"1\" class=\"dataframe\">\n",
       "  <thead>\n",
       "    <tr style=\"text-align: right;\">\n",
       "      <th></th>\n",
       "      <th>Subject</th>\n",
       "      <th>Concept</th>\n",
       "    </tr>\n",
       "  </thead>\n",
       "  <tbody>\n",
       "    <tr>\n",
       "      <th>995</th>\n",
       "      <td>https://data.coypu.org/icews/36616020</td>\n",
       "      <td>https://schema.coypu.org/global#Conflict</td>\n",
       "    </tr>\n",
       "    <tr>\n",
       "      <th>996</th>\n",
       "      <td>https://data.coypu.org/icews/36616021</td>\n",
       "      <td>https://schema.coypu.org/global#Conflict</td>\n",
       "    </tr>\n",
       "    <tr>\n",
       "      <th>997</th>\n",
       "      <td>https://data.coypu.org/icews/36616024</td>\n",
       "      <td>https://schema.coypu.org/global#Conflict</td>\n",
       "    </tr>\n",
       "    <tr>\n",
       "      <th>998</th>\n",
       "      <td>https://data.coypu.org/icews/36616025</td>\n",
       "      <td>https://schema.coypu.org/global#Conflict</td>\n",
       "    </tr>\n",
       "    <tr>\n",
       "      <th>999</th>\n",
       "      <td>https://data.coypu.org/icews/36616026</td>\n",
       "      <td>https://schema.coypu.org/global#Conflict</td>\n",
       "    </tr>\n",
       "  </tbody>\n",
       "</table>\n",
       "</div>"
      ],
      "text/plain": [
       "                                   Subject  \\\n",
       "995  https://data.coypu.org/icews/36616020   \n",
       "996  https://data.coypu.org/icews/36616021   \n",
       "997  https://data.coypu.org/icews/36616024   \n",
       "998  https://data.coypu.org/icews/36616025   \n",
       "999  https://data.coypu.org/icews/36616026   \n",
       "\n",
       "                                      Concept  \n",
       "995  https://schema.coypu.org/global#Conflict  \n",
       "996  https://schema.coypu.org/global#Conflict  \n",
       "997  https://schema.coypu.org/global#Conflict  \n",
       "998  https://schema.coypu.org/global#Conflict  \n",
       "999  https://schema.coypu.org/global#Conflict  "
      ]
     },
     "metadata": {},
     "output_type": "display_data"
    }
   ],
   "source": [
    "# Demo query to all available enpoints\n",
    "\n",
    "# demo query\n",
    "query_test = \"\"\"SELECT * WHERE{ ?Subject a ?Concept }LIMIT 1000\"\"\"\n",
    "\n",
    "\n",
    "# creating request for cmemc\n",
    "display(\"############### Cmemc Endpoint ###############\")\n",
    "cmemc_request = SPARQLRequest(client_url_imp, client_id_imp, client_secret_imp , 'oauth')\n",
    "# executing query and printing response\n",
    "cmemc_request.execute(query_test)\n",
    "buf = StringIO(cmemc_request.response.content.decode('utf-8'), newline='\\r\\n')          \n",
    "display(pd.read_csv(buf, encoding='utf-8').tail(5))\n",
    "\n",
    "# creating request for skynet\n",
    "display(\"############### Skynet Endpoint ###############\")\n",
    "skynet_request = SPARQLRequest(skynet_endpoint, skynet_user, skynet_pass, 'basic')\n",
    "# executing query and printing response\n",
    "skynet_request.execute(query_test)\n",
    "buf = StringIO(skynet_request.response.content.decode('utf-8'), newline='\\r\\n')          \n",
    "display(pd.read_csv(buf, encoding='utf-8').tail(5))\n",
    "\n",
    "# creating request for worldbank\n",
    "display(\"############### Worldbank Endpoint ###############\")\n",
    "worldbank_request = SPARQLRequest(worldbank_endpoint)\n",
    "# executing query and printing response\n",
    "worldbank_request.execute(query_test)\n",
    "display(worldbank_request.response.status_code)\n",
    "buf = StringIO(worldbank_request.response.content.decode('utf-8'), newline='\\r\\n')          \n",
    "display(pd.read_csv(buf, encoding='utf-8').tail(5))\n",
    "\n",
    "# creating request for LEI\n",
    "display(\"############### LEI Endpoint ###############\")\n",
    "lei_request = SPARQLRequest(lei_endpoint)\n",
    "# executing query and printing response\n",
    "lei_request.execute(query_test)\n",
    "buf = StringIO(lei_request.response.content.decode('utf-8'), newline='\\r\\n')          \n",
    "display(pd.read_csv(buf, encoding='utf-8').tail(5))\n",
    "\n",
    "# creating request for ICEWS\n",
    "display(\"############### ICEWS Endpoint ###############\")\n",
    "icews_request = SPARQLRequest(icews_endpoint)\n",
    "# executing query and printing response\n",
    "icews_request.execute(query_test)\n",
    "buf = StringIO(icews_request.response.content.decode('utf-8'), newline='\\r\\n')          \n",
    "display(pd.read_csv(buf, encoding='utf-8').tail(5))\n"
   ]
  },
  {
   "cell_type": "markdown",
   "id": "3b610e0f-a2e6-43dc-a755-ec47c352c4c1",
   "metadata": {},
   "source": [
    "## Federated Query"
   ]
  },
  {
   "cell_type": "code",
   "execution_count": 6,
   "id": "849bcb53-a494-41a0-847b-7e2d58015579",
   "metadata": {},
   "outputs": [
    {
     "data": {
      "text/plain": [
       "'############### Federated Query ###############'"
      ]
     },
     "metadata": {},
     "output_type": "display_data"
    },
    {
     "name": "stderr",
     "output_type": "stream",
     "text": [
      "2022-11-30 17:11:18,649 - DeTrusty.Wrapper.RDFWrapper - INFO - Contacting endpoint: https://labs.tib.eu/sdm/lei_endpoint/sparql/\n",
      "2022-11-30 17:11:18,662 - DeTrusty.Wrapper.RDFWrapper - INFO - Contacting endpoint: https://labs.tib.eu/sdm/worldbank_endpoint/sparql/\n",
      "2022-11-30 17:11:18,665 - DeTrusty.Wrapper.RDFWrapper - INFO - Contacting endpoint: https://labs.tib.eu/sdm/icews_endpoint/sparql/\n"
     ]
    },
    {
     "name": "stdout",
     "output_type": "stream",
     "text": [
      "Total time taken by execute function: 0.6897144317626953\n",
      "Index                    128\n",
      "Subject.value           8000\n",
      "Subject.type            8000\n",
      "Concept.value           8000\n",
      "Concept.type            8000\n",
      "__meta__.is_verified    1000\n",
      "dtype: int64\n",
      "<class 'pandas.core.frame.DataFrame'>\n",
      "RangeIndex: 1000 entries, 0 to 999\n",
      "Data columns (total 5 columns):\n",
      " #   Column                Non-Null Count  Dtype \n",
      "---  ------                --------------  ----- \n",
      " 0   Subject.value         1000 non-null   object\n",
      " 1   Subject.type          1000 non-null   object\n",
      " 2   Concept.value         1000 non-null   object\n",
      " 3   Concept.type          1000 non-null   object\n",
      " 4   __meta__.is_verified  1000 non-null   bool  \n",
      "dtypes: bool(1), object(4)\n",
      "memory usage: 32.4+ KB\n",
      "None\n",
      "Total time taken by json_to_csv function: 0.04625272750854492\n",
      "Total time taken by save function: 0.04714608192443848\n"
     ]
    }
   ],
   "source": [
    "# creating request for Federated Query\n",
    "display(\"############### Federated Query ###############\")\n",
    "fdq_request = SPARQLRequest(is_fdq=True)\n",
    "fdq_request.execute(query_test, config_public, False)\n",
    "fdq_request.save('../query_results/', 'query_test')"
   ]
  },
  {
   "cell_type": "code",
   "execution_count": 8,
   "id": "9e47c410-b348-4c1e-90cf-2abcd0aeef98",
   "metadata": {},
   "outputs": [
    {
     "name": "stdout",
     "output_type": "stream",
     "text": [
      "PREFIX coy: <https://schema.coypu.org/global#>\n",
      "PREFIX rdfs: <http://www.w3.org/2000/01/rdf-schema#>\n",
      "PREFIX xsd: <http://www.w3.org/2001/XMLSchema#>\n",
      "PREFIX owl: <http://www.w3.org/2002/07/owl#>\n",
      "PREFIX skos: <http://www.w3.org/2004/02/skos/core#>\n",
      "PREFIX time: <http://www.w3.org/2006/time#> \n",
      "\n",
      "PREFIX wb: <http://worldbank.org/>\n",
      "PREFIX wbi: <http://worldbank.org/Indicator/>\n",
      "PREFIX dc: <http://purl.org/dc/elements/1.1/>\n",
      "PREFIX dcterms: <http://purl.org/dc/terms/>\n",
      "PREFIX dbo: <http://dbpedia.org/ontology/>\n",
      "PREFIX geo: <https://www.geonames.org/ontology#>\n",
      "SELECT ?country_code ?year ?year_dis ?value ?disaster\n",
      "WHERE {\n",
      "    ?indicator a wb:AnnualIndicatorEntry .\n",
      "    ?indicator wb:hasIndicator <http://worldbank.org/Indicator/EN.ATM.CO2E.KT> .\n",
      "    ?indicator wb:hasCountry ?country .\n",
      "    ?indicator owl:hasValue ?value .\n",
      "    ?indicator time:year ?year .\n",
      "    ?country   dc:identifier ?country_code .\n",
      "\n",
      "    ?disaster a coy:Disaster .\n",
      "    ?disaster time:year ?year_dis .\n",
      "    ?disaster geo:countryCode ?country_code .\n",
      "\n",
      "}\n",
      "\n",
      "PREFIX coy: <https://schema.coypu.org/global#>\n",
      "PREFIX rdfs: <http://www.w3.org/2000/01/rdf-schema#>\n",
      "PREFIX xsd: <http://www.w3.org/2001/XMLSchema#>\n",
      "PREFIX owl: <http://www.w3.org/2002/07/owl#>\n",
      "PREFIX skos: <http://www.w3.org/2004/02/skos/core#>\n",
      "PREFIX time: <http://www.w3.org/2006/time#> \n",
      "\n",
      "PREFIX wb: <http://worldbank.org/>\n",
      "PREFIX wbi: <http://worldbank.org/Indicator/>\n",
      "PREFIX dc: <http://purl.org/dc/elements/1.1/>\n",
      "PREFIX dcterms: <http://purl.org/dc/terms/>\n",
      "PREFIX dbo: <http://dbpedia.org/ontology/>\n",
      "PREFIX geo: <https://www.geonames.org/ontology#>\n",
      "SELECT ?country_code ?year ?year_dis ?value ?disaster\n",
      "WHERE {\n",
      "    ?indicator a wb:AnnualIndicatorEntry .\n",
      "    ?indicator wb:hasIndicator <http://worldbank.org/Indicator/EN.ATM.CO2E.KT> .\n",
      "    ?indicator wb:hasCountry ?country .\n",
      "    ?indicator owl:hasValue ?value .\n",
      "    ?indicator time:year ?year .\n",
      "    ?country   dc:identifier ?country_code .\n",
      "\n",
      "    ?disaster a coy:Disaster .\n",
      "    ?disaster time:year ?year_dis .\n",
      "    ?disaster geo:countryCode ?country_code .\n",
      "\n",
      "}\n",
      "\n",
      "########################### EXAMPLE ##########################\n",
      "PREFIX coy: <https://schema.coypu.org/global#>\n",
      "PREFIX rdfs: <http://www.w3.org/2000/01/rdf-schema#>\n",
      "PREFIX xsd: <http://www.w3.org/2001/XMLSchema#>\n",
      "PREFIX owl: <http://www.w3.org/2002/07/owl#>\n",
      "PREFIX skos: <http://www.w3.org/2004/02/skos/core#>\n",
      "PREFIX time: <http://www.w3.org/2006/time#> \n",
      "\n",
      "PREFIX wb: <http://worldbank.org/>\n",
      "PREFIX wbi: <http://worldbank.org/Indicator/>\n",
      "PREFIX dc: <http://purl.org/dc/elements/1.1/>\n",
      "PREFIX dcterms: <http://purl.org/dc/terms/>\n",
      "PREFIX dbo: <http://dbpedia.org/ontology/>\n",
      "PREFIX geo: <https://www.geonames.org/ontology#>\n",
      "SELECT ?country_code ?year ?year_dis ?value ?disaster\n",
      "WHERE {\n",
      "    ?indicator a wb:AnnualIndicatorEntry .\n",
      "    ?indicator wb:hasIndicator <http://worldbank.org/Indicator/EN.ATM.CO2E.KT> .\n",
      "    ?indicator wb:hasCountry ?country .\n",
      "    ?indicator owl:hasValue ?value .\n",
      "    ?indicator time:year ?year .\n",
      "    ?country   dc:identifier ?country_code .\n",
      "\n",
      "    ?disaster a coy:Disaster .\n",
      "    ?disaster time:year ?year_dis .\n",
      "    ?disaster geo:countryCode ?country_code .\n",
      "\n",
      "}\n",
      "\n"
     ]
    },
    {
     "name": "stderr",
     "output_type": "stream",
     "text": [
      "2022-11-30 17:11:32,878 - DeTrusty.Wrapper.RDFWrapper - INFO - Contacting endpoint: https://skynet.coypu.org/coypu-internal\n",
      "2022-11-30 17:11:32,890 - DeTrusty.Wrapper.RDFWrapper - INFO - Contacting endpoint: https://skynet.coypu.org/coypu-internal\n",
      "2022-11-30 17:11:32,892 - DeTrusty.Wrapper.RDFWrapper - INFO - Contacting endpoint: https://labs.tib.eu/sdm/worldbank_endpoint/sparql\n",
      "2022-11-30 17:11:32,916 - DeTrusty.Wrapper.RDFWrapper - INFO - Contacting endpoint: https://labs.tib.eu/sdm/worldbank_endpoint/sparql\n",
      "2022-11-30 17:11:33,623 - DeTrusty.Wrapper.RDFWrapper - INFO - Contacting endpoint: https://skynet.coypu.org/coypu-internal\n",
      "2022-11-30 17:11:33,625 - DeTrusty.Wrapper.RDFWrapper - INFO - Contacting endpoint: https://skynet.coypu.org/coypu-internal\n",
      "2022-11-30 17:11:33,641 - DeTrusty.Wrapper.RDFWrapper - INFO - Contacting endpoint: https://skynet.coypu.org/coypu-internal\n",
      "2022-11-30 17:11:33,685 - DeTrusty.Wrapper.RDFWrapper - INFO - Contacting endpoint: https://skynet.coypu.org/coypu-internal\n",
      "2022-11-30 17:11:33,664 - DeTrusty.Wrapper.RDFWrapper - INFO - Contacting endpoint: https://skynet.coypu.org/coypu-internal\n",
      "2022-11-30 17:11:33,723 - DeTrusty.Wrapper.RDFWrapper - INFO - Contacting endpoint: https://skynet.coypu.org/coypu-internal\n",
      "2022-11-30 17:11:33,741 - DeTrusty.Wrapper.RDFWrapper - INFO - Contacting endpoint: https://skynet.coypu.org/coypu-internal\n",
      "2022-11-30 17:11:33,764 - DeTrusty.Wrapper.RDFWrapper - INFO - Contacting endpoint: https://skynet.coypu.org/coypu-internal\n",
      "2022-11-30 17:11:33,808 - DeTrusty.Wrapper.RDFWrapper - INFO - Contacting endpoint: https://skynet.coypu.org/coypu-internal\n",
      "2022-11-30 17:11:33,824 - DeTrusty.Wrapper.RDFWrapper - INFO - Contacting endpoint: https://skynet.coypu.org/coypu-internal\n",
      "2022-11-30 17:11:34,121 - DeTrusty.Wrapper.RDFWrapper - INFO - Contacting endpoint: https://skynet.coypu.org/coypu-internal\n",
      "2022-11-30 17:11:40,778 - DeTrusty.Wrapper.RDFWrapper - INFO - Contacting endpoint: https://skynet.coypu.org/coypu-internal\n"
     ]
    },
    {
     "name": "stdout",
     "output_type": "stream",
     "text": [
      "Total time taken by execute function: 27.11950159072876\n",
      "Index                       128\n",
      "country_code.value      1560960\n",
      "country_code.type       1560960\n",
      "year.value              1560960\n",
      "year.type               1560960\n",
      "year_dis.value          1560960\n",
      "year_dis.type           1560960\n",
      "value.value             1560960\n",
      "value.type              1560960\n",
      "disaster.value          1560960\n",
      "disaster.type           1560960\n",
      "__meta__.is_verified     195120\n",
      "dtype: int64\n",
      "<class 'pandas.core.frame.DataFrame'>\n",
      "RangeIndex: 195120 entries, 0 to 195119\n",
      "Data columns (total 11 columns):\n",
      " #   Column                Non-Null Count   Dtype \n",
      "---  ------                --------------   ----- \n",
      " 0   country_code.value    195120 non-null  object\n",
      " 1   country_code.type     195120 non-null  object\n",
      " 2   year.value            195120 non-null  object\n",
      " 3   year.type             195120 non-null  object\n",
      " 4   year_dis.value        195120 non-null  object\n",
      " 5   year_dis.type         195120 non-null  object\n",
      " 6   value.value           195120 non-null  object\n",
      " 7   value.type            195120 non-null  object\n",
      " 8   disaster.value        195120 non-null  object\n",
      " 9   disaster.type         195120 non-null  object\n",
      " 10  __meta__.is_verified  195120 non-null  bool  \n",
      "dtypes: bool(1), object(10)\n",
      "memory usage: 15.1+ MB\n",
      "None\n",
      "Total time taken by json_to_csv function: 6.2055442333221436\n",
      "Total time taken by save function: 6.397399187088013\n"
     ]
    }
   ],
   "source": [
    "print(query_1_fdq_ex)\n",
    "print('########################### EXAMPLE ##########################\\n{}'.format(query_1_fdq_ex))\n",
    "fdq_request.execute(query_1_fdq_ex, config_private, False)\n",
    "fdq_request.save('../query_results/', 'query_1_fdq_ex')"
   ]
  },
  {
   "cell_type": "code",
   "execution_count": null,
   "id": "ab400c3f-c92b-4b6e-b051-ef5530f75ddc",
   "metadata": {},
   "outputs": [],
   "source": [
    "def carbon_emission_group(carbon_emission):\n",
    "    if carbon_emission/1000000 < 0.25:\n",
    "        return '0.00-0.25'\n",
    "    elif carbon_emission/1000000 >= 0.25 and carbon_emission/1000000 < 0.5:\n",
    "        return '0.25-0.5'\n",
    "    elif carbon_emission/1000000 >= 0.5 and carbon_emission/1000000 < 0.75:\n",
    "        return '0.50-0.75'\n",
    "    else:\n",
    "        return '> 0.75'\n",
    "    \n",
    "\n",
    "df = pd.read_csv('../query_results/query_1_fdq_ex.csv', encoding='utf-8')\n",
    "df['carbon_emission(1e6)'] = df['carbon_emission'].apply(carbon_emission_group)\n",
    "\n",
    "df.head(10)"
   ]
  },
  {
   "cell_type": "code",
   "execution_count": null,
   "id": "815e669d-34f1-4637-ab70-427021f4e240",
   "metadata": {},
   "outputs": [],
   "source": [
    "\n",
    "fig = px.scatter_geo(df, locations=\"country_code\", color=\"carbon_emission(1e6)\",\n",
    "                     hover_data=['carbon_emission'], size=\"no_of_disasters\",\n",
    "                     animation_frame=\"year\",\n",
    "                     projection=\"equirectangular\", scope='europe')\n",
    "fig.update_layout(title_text='Carbon emission and the number of disaster events for various countries across years',\\\n",
    "                  title_font_color=\"red\", title_font_family=\"Times New Roman\", title_font_size=25)\n",
    "fig.write_html('../../query_results/query_1_fdq_ex_sql_new.html')\n",
    "fig.show()"
   ]
  }
 ],
 "metadata": {
  "kernelspec": {
   "display_name": "Python 3 (ipykernel)",
   "language": "python",
   "name": "python3"
  },
  "language_info": {
   "codemirror_mode": {
    "name": "ipython",
    "version": 3
   },
   "file_extension": ".py",
   "mimetype": "text/x-python",
   "name": "python",
   "nbconvert_exporter": "python",
   "pygments_lexer": "ipython3",
   "version": "3.10.8"
  },
  "toc-autonumbering": true,
  "toc-showcode": true,
  "toc-showmarkdowntxt": true,
  "vscode": {
   "interpreter": {
    "hash": "1f01d2debc0dab2131111cf4fcc295bf8655e407cc17f23f4d91786b78fe5ca1"
   }
  }
 },
 "nbformat": 4,
 "nbformat_minor": 5
}
