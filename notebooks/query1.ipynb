{
 "cells": [
  {
   "cell_type": "code",
   "execution_count": 2,
   "id": "75394514-8b89-4c8c-987c-3207f9c03d17",
   "metadata": {},
   "outputs": [
    {
     "name": "stdout",
     "output_type": "stream",
     "text": [
      "coypu.utils\n"
     ]
    }
   ],
   "source": [
    "import pandas as pd\n",
    "from coypu.utils.query import Query\n",
    "from coypu.utils.credentials import *\n",
    "from query.queries import *\n",
    "import plotly.express as px\n",
    "import plotly.io as pio\n",
    "pio.renderers.default = \"browser\"\n",
    "import matplotlib.pyplot as plt\n",
    "\n",
    "pd.options.display.max_rows = 999\n",
    "pd.options.display.max_columns = 999\n"
   ]
  },
  {
   "cell_type": "code",
   "execution_count": 15,
   "id": "c87047ac-b265-460a-a20d-2b917e3fa4fd",
   "metadata": {},
   "outputs": [],
   "source": [
    "cmemc_query_imp = Query(client_url_imp, client_id_imp, client_secret_imp , 'oauth')\n",
    "\n",
    "    \n",
    "# fuseki_infai = Query(fuseki_endpoint_infai, fuseki_user_infai, fuseki_pw_infai, 'basic')\n",
    "fuseki_infai = Query(\"https://skynet.coypu.org/coypu-internal/\", \"katherine\", \"0CyivAlseo\", 'basic')\n",
    "\n",
    "fdquery = Query(\"http://localhost:5002/sparql\", is_fdq=True)\n",
    "\n",
    "#cmemc_query_tib = Query(client_url_tib_1, client_id_tib_1, client_secret_tib_1, 'oauth')\n",
    "\n"
   ]
  },
  {
   "cell_type": "code",
   "execution_count": 16,
   "id": "6edd89ff",
   "metadata": {},
   "outputs": [
    {
     "name": "stdout",
     "output_type": "stream",
     "text": [
      "PREFIX coy: <https://schema.coypu.org/global#>\n",
      "PREFIX rdfs: <http://www.w3.org/2000/01/rdf-schema#>\n",
      "PREFIX xsd: <http://www.w3.org/2001/XMLSchema#>\n",
      "PREFIX owl: <http://www.w3.org/2002/07/owl#>\n",
      "PREFIX skos: <http://www.w3.org/2004/02/skos/core#>\n",
      "PREFIX time: <http://www.w3.org/2006/time#> \n",
      "\n",
      "PREFIX wb: <http://worldbank.org/>\n",
      "PREFIX wbi: <http://worldbank.org/Indicator/>\n",
      "PREFIX dc: <http://purl.org/dc/elements/1.1/>\n",
      "PREFIX dcterms: <http://purl.org/dc/terms/>\n",
      "PREFIX dbo: <http://dbpedia.org/ontology/>\n",
      "PREFIX geo: <https://www.geonames.org/ontology#>\n",
      "\n",
      "SELECT * WHERE{\n",
      "    ?subject ?predicate ?object\n",
      "}LIMIT 10\n",
      "\n",
      "Passed Query Description: 200\n",
      "Total time taken by post_query function: 1.2713184356689453\n"
     ]
    }
   ],
   "source": [
    "fuseki_infai.headers, fuseki_infai.headers\n",
    "print(query_0)\n",
    "fuseki_infai.post_query(query_0)\n"
   ]
  },
  {
   "cell_type": "code",
   "execution_count": 17,
   "id": "c46062fd",
   "metadata": {},
   "outputs": [
    {
     "data": {
      "text/plain": [
       "b'subject,predicate,object\\r\\nhttps://data.coypu.org/nearby/1015559/BRA0027793,http://www.w3.org/1999/02/22-rdf-syntax-ns#type,https://schema.coypu.org/global#NearbyInfrastructure\\r\\nhttps://data.coypu.org/nearby/1015559/BRA0027793,https://schema.coypu.org/global#isNearby,https://data.coypu.org/infrastructure/BRA0027793\\r\\nhttps://data.coypu.org/nearby/1015559/BRA0027793,https://schema.coypu.org/global#hasDistance,51\\r\\nhttps://data.coypu.org/nearby/1015559/BRA0027793,http://www.w3.org/2000/01/rdf-schema#label,Nearby Infrastructure - GDACS Event 1015559\\r\\nhttps://data.coypu.org/event/gdacs/1015559,http://www.w3.org/1999/02/22-rdf-syntax-ns#type,https://schema.coypu.org/global#Disaster\\r\\nhttps://data.coypu.org/event/gdacs/1015559,https://schema.coypu.org/global#hasNearbyInfrastructure,https://data.coypu.org/nearby/1015559/BRA0027793\\r\\nhttps://data.coypu.org/event/gdacs/1015559,https://schema.coypu.org/global#hasNearbyInfrastructure,https://data.coypu.org/nearby/1015559/BRA0029796\\r\\nhttps://data.coypu.org/event/gdacs/1015559,https://schema.coypu.org/global#hasNearbyInfrastructure,https://data.coypu.org/nearby/1015559/BRA0002889\\r\\nhttps://data.coypu.org/event/gdacs/1015559,https://schema.coypu.org/global#hasNearbyInfrastructure,https://data.coypu.org/nearby/1015559/BRA0030959\\r\\nhttps://data.coypu.org/event/gdacs/1015559,https://schema.coypu.org/global#hasNearbyInfrastructure,https://data.coypu.org/nearby/1015559/BRA0028917\\r\\n'"
      ]
     },
     "execution_count": 17,
     "metadata": {},
     "output_type": "execute_result"
    }
   ],
   "source": [
    "fuseki_infai.response.content"
   ]
  },
  {
   "cell_type": "code",
   "execution_count": null,
   "id": "9e47c410-b348-4c1e-90cf-2abcd0aeef98",
   "metadata": {},
   "outputs": [],
   "source": [
    "print(query_1_fdq_desc)\n",
    "print(query_1_fdq)\n",
    "print('########################### EXAMPLE ##########################\\n{}'.format(query_1_fdq_ex))\n",
    "fdquery.post_query(query_1_fdq_ex)\n",
    "fdquery.to_save('../../query_results/', filename='query_1_fdq_ex')"
   ]
  },
  {
   "cell_type": "code",
   "execution_count": null,
   "id": "11678928-c669-4d72-996a-af3e0c0723bf",
   "metadata": {},
   "outputs": [],
   "source": [
    "from sqlalchemy import create_engine\n",
    "\n",
    "engine = create_engine(\n",
    "        \"mysql+pymysql://{user}:{pw}@{hostname}:{portno}/{db}\".format(\n",
    "            hostname=host, db=dbname, user=uname, pw=pwd, portno=port\n",
    "        ),)\n",
    "\n",
    "df = pd.read_csv('../../query_results/query_1_fdq_ex.csv', encoding='utf-8')\n",
    "df.rename(columns=lambda x: x.replace('.value', ''), inplace=True)\n",
    "try:\n",
    "    df.to_sql('query_1_fdq_ex', con=engine, if_exists='fail', index=False)\n",
    "except Exception as e:\n",
    "    print('Exeception: {}',e)"
   ]
  },
  {
   "cell_type": "code",
   "execution_count": null,
   "id": "6cc78219-5839-4489-840b-5011adf46853",
   "metadata": {},
   "outputs": [],
   "source": [
    "from sqlalchemy import create_engine\n",
    "\n",
    "engine = create_engine(\n",
    "        \"mysql+pymysql://{user}:{pw}@{hostname}:{portno}/{db}\".format(\n",
    "            hostname=host, db=dbname, user=uname, pw=pwd, portno=port\n",
    "        ),)\n",
    "\n",
    "query_1_fdq_ex_sql = \"\"\"SELECT country_code, year, AVG(value) as carbon_emission, COUNT(disaster) AS no_of_disasters\n",
    "FROM `query_1_fdq_ex`\n",
    "WHERE year=year_dis\n",
    "GROUP By country_code, year\n",
    "Order By  year ASC\n",
    "\"\"\"\n",
    "\n",
    "df = pd.read_sql(query_1_fdq_ex_sql, con=engine)\n",
    "\n",
    "df.to_csv('../../query_results/query_1_fdq_ex_sql.csv', encoding='utf-8', index=False)"
   ]
  },
  {
   "cell_type": "code",
   "execution_count": null,
   "id": "ab400c3f-c92b-4b6e-b051-ef5530f75ddc",
   "metadata": {},
   "outputs": [],
   "source": [
    "def carbon_emission_group(carbon_emission):\n",
    "    if carbon_emission/1000000 < 0.25:\n",
    "        return '0.00-0.25'\n",
    "    elif carbon_emission/1000000 >= 0.25 and carbon_emission/1000000 < 0.5:\n",
    "        return '0.25-0.5'\n",
    "    elif carbon_emission/1000000 >= 0.5 and carbon_emission/1000000 < 0.75:\n",
    "        return '0.50-0.75'\n",
    "    else:\n",
    "        return '> 0.75'\n",
    "    \n",
    "\n",
    "df = pd.read_csv('../../query_results/query_1_fdq_ex_sql.csv', encoding='utf-8')\n",
    "df['carbon_emission(1e6)'] = df['carbon_emission'].apply(carbon_emission_group)\n",
    "\n",
    "df.head(10)"
   ]
  },
  {
   "cell_type": "code",
   "execution_count": null,
   "id": "815e669d-34f1-4637-ab70-427021f4e240",
   "metadata": {},
   "outputs": [],
   "source": [
    "\n",
    "fig = px.scatter_geo(df, locations=\"country_code\", color=\"carbon_emission(1e6)\",\n",
    "                     hover_data=['carbon_emission'], size=\"no_of_disasters\",\n",
    "                     animation_frame=\"year\",\n",
    "                     projection=\"equirectangular\", scope='europe')\n",
    "fig.update_layout(title_text='Carbon emission and the number of disaster events for various countries across years',\\\n",
    "                  title_font_color=\"red\", title_font_family=\"Times New Roman\", title_font_size=25)\n",
    "fig.write_html('../../query_results/query_1_fdq_ex_sql_new.html')\n",
    "fig.show()"
   ]
  },
  {
   "cell_type": "code",
   "execution_count": null,
   "id": "92c4bf74-2811-4aa6-8f74-f2e39fedf608",
   "metadata": {},
   "outputs": [],
   "source": []
  }
 ],
 "metadata": {
  "kernelspec": {
   "display_name": "Python 3.9.13 ('coypu')",
   "language": "python",
   "name": "python3"
  },
  "language_info": {
   "codemirror_mode": {
    "name": "ipython",
    "version": 3
   },
   "file_extension": ".py",
   "mimetype": "text/x-python",
   "name": "python",
   "nbconvert_exporter": "python",
   "pygments_lexer": "ipython3",
   "version": "3.9.13"
  },
  "vscode": {
   "interpreter": {
    "hash": "1f01d2debc0dab2131111cf4fcc295bf8655e407cc17f23f4d91786b78fe5ca1"
   }
  }
 },
 "nbformat": 4,
 "nbformat_minor": 5
}
