{
 "cells": [
  {
   "cell_type": "markdown",
   "id": "dcec454e-169c-4130-8ce1-ee43d832aa60",
   "metadata": {},
   "source": [
    "\"title\": \"My Title!\",\n",
    "\"authors\": [\n",
    "  { \"name\": \"Author1\" },\n",
    "  { \"name\": \"Author2\" }\n",
    "]"
   ]
  },
  {
   "cell_type": "markdown",
   "id": "a8734bee-6368-4ea7-93d3-894d262b9a62",
   "metadata": {},
   "source": [
    "%%bash\n",
    "# install packages\n",
    "pip install -r ../requirements.txt"
   ]
  },
  {
   "cell_type": "code",
   "execution_count": 2,
   "id": "75394514-8b89-4c8c-987c-3207f9c03d17",
   "metadata": {},
   "outputs": [
    {
     "name": "stdout",
     "output_type": "stream",
     "text": [
      "\n"
     ]
    }
   ],
   "source": [
    "# Third party packages\n",
    "import pandas as pd\n",
    "import plotly.express as px\n",
    "import plotly.io as pio\n",
    "pio.renderers.default = \"browser\"\n",
    "import matplotlib.pyplot as plt\n",
    "from io import StringIO\n",
    "\n",
    "from os.path import abspath\n",
    "import sys\n",
    "sys.path.insert(0, abspath('..'))\n",
    "\n",
    "from query_request import *\n",
    "from query_def import *\n",
    "import credentials\n",
    "# from sqlalchemy import create_engine\n",
    "\n",
    "pd.options.display.max_rows = 999\n",
    "pd.options.display.max_columns = 999\n",
    "pd.options.display.max_colwidth=None\n"
   ]
  },
  {
   "cell_type": "code",
   "execution_count": 3,
   "id": "99714d3e-ecaa-4e0c-86ac-f0cecb571381",
   "metadata": {},
   "outputs": [
    {
     "name": "stdout",
     "output_type": "stream",
     "text": [
      "CPU times: user 75.5 ms, sys: 1.7 ms, total: 77.2 ms\n",
      "Wall time: 72.8 ms\n"
     ]
    }
   ],
   "source": [
    "%%time\n",
    "from rdfizer.semantify import semantify\n",
    "# semantify('../configs/config.ini')"
   ]
  },
  {
   "cell_type": "code",
   "execution_count": null,
   "id": "2ae35b81-d235-44c2-8160-6ba7faaf11ec",
   "metadata": {},
   "outputs": [
    {
     "name": "stdout",
     "output_type": "stream",
     "text": [
      "Total time taken by dictfrmjson function: 6.222724914550781e-05\n",
      "{'https://labs.tib.eu/sdm/icews_endpoint/sparql/': {'mappings': ['../mappings/icews/icews.ttl', '../mappings/country/country_codes.ttl']}, 'https://labs.tib.eu/sdm/lei_endpoint/sparql/': {'mappings': ['../mappings/lei/lei.ttl']}, 'https://labs.tib.eu/sdm/worldbank_endpoint/sparql': {'mappings': ['../mappings/worldbank/worldbank_0.ttl', '../mappings/worldbank/worldbank_7.ttl']}}\n"
     ]
    },
    {
     "name": "stderr",
     "output_type": "stream",
     "text": [
      "2022-11-28 16:23:36,023 - rdfmts - INFO - Finding inter-links between: https://labs.tib.eu/sdm/icews_endpoint/sparql/ and https://labs.tib.eu/sdm/lei_endpoint/sparql/\n",
      "2022-11-28 16:23:36,026 - rdfmts - INFO - ==============================//=========//===============================\n",
      "2022-11-28 16:23:36,035 - rdfmts - INFO - Finding inter-links between: https://labs.tib.eu/sdm/icews_endpoint/sparql/ and https://labs.tib.eu/sdm/worldbank_endpoint/sparql\n",
      "2022-11-28 16:23:36,039 - rdfmts - INFO - ==============================//=========//===============================\n",
      "2022-11-28 16:23:36,050 - rdfmts - INFO - Finding inter-links between: https://labs.tib.eu/sdm/lei_endpoint/sparql/ and https://labs.tib.eu/sdm/icews_endpoint/sparql/\n",
      "2022-11-28 16:23:36,053 - rdfmts - INFO - ==============================//=========//===============================\n",
      "2022-11-28 16:23:36,142 - rdfmts - INFO - Finding inter-links between: https://labs.tib.eu/sdm/lei_endpoint/sparql/ and https://labs.tib.eu/sdm/worldbank_endpoint/sparql\n",
      "2022-11-28 16:23:36,147 - rdfmts - INFO - ==============================//=========//===============================\n",
      "2022-11-28 16:23:36,161 - rdfmts - INFO - Finding inter-links between: https://labs.tib.eu/sdm/worldbank_endpoint/sparql and https://labs.tib.eu/sdm/icews_endpoint/sparql/\n",
      "2022-11-28 16:23:36,166 - rdfmts - INFO - ==============================//=========//===============================\n",
      "2022-11-28 16:23:36,178 - rdfmts - INFO - Finding inter-links between: https://labs.tib.eu/sdm/worldbank_endpoint/sparql and https://labs.tib.eu/sdm/lei_endpoint/sparql/\n",
      "2022-11-28 16:23:36,183 - rdfmts - INFO - ==============================//=========//===============================\n",
      "2022-11-28 16:23:43,136 - rdfmts - INFO - https://www.gleif.org/ontology/Base/PhysicalAddress, https://schema.coypu.org/global#hasCityLocation --> {'https://schema.coypu.org/global#Conflict'}\n",
      "2022-11-28 17:22:27,536 - DeTrusty.Wrapper.RDFWrapper - ERROR - Exception while sending request to https://labs.tib.eu/sdm/icews_endpoint/sparql/ - msg: <urlopen error [Errno -3] Temporary failure in name resolution> - query: SELECT DISTINCT ?c WHERE {\n",
      "  VALUES ?o { <https://data.coypu.org/lei/95980020140005381834-95980020140005618514> <https://data.coypu.org/lei/95980020140005381931-95980020140005618514> <https://data.coypu.org/lei/95980020140005384550-95980020140005329260> <https://data.coypu.org/lei/95980020140005384647-95980020140005329260> <https://data.coypu.org/lei/95980020140005384744-95980020140005329260> <https://data.coypu.org/lei/95980020140005384841-95980020140005329260> <https://data.coypu.org/lei/95980020140005385132-95980020140005329260> <https://data.coypu.org/lei/95980020140005385229-95980020140005329260> <https://data.coypu.org/lei/95980020140005385423-95980020140005329260> <https://data.coypu.org/lei/95980020140005385520-959800DZSPB9QATLAR08> <https://data.coypu.org/lei/95980020140005385714-95980020140005329260> <https://data.coypu.org/lei/95980020140005385908-95980020140005287162> <https://data.coypu.org/lei/95980020140005386005-95980020140005329260> <https://data.coypu.org/lei/95980020140005386102-95980020140005329260> <https://data.coypu.org/lei/95980020140005386393-95980020140005329260> <https://data.coypu.org/lei/95980020140005386587-959800DZSPB9QATLAR08> <https://data.coypu.org/lei/95980020140005386781-95980020140005329260> <https://data.coypu.org/lei/95980020140005386878-95980020140005329260> <https://data.coypu.org/lei/95980020140005386975-95980020140005329260> <https://data.coypu.org/lei/95980020140005387072-95980020140005329260> <https://data.coypu.org/lei/95980020140005387169-95980020140005329260> <https://data.coypu.org/lei/95980020140005387266-95980020140005329260> <https://data.coypu.org/lei/95980020140005387363-95980020140005329260> <https://data.coypu.org/lei/95980020140005387460-95980020140005329260> <https://data.coypu.org/lei/95980020140005387557-95980020140005329260> <https://data.coypu.org/lei/95980020140005387654-95980020140005329260> <https://data.coypu.org/lei/95980020140005387751-959800DZSPB9QATLAR08> <https://data.coypu.org/lei/95980020140005387848-549300XJUJHXPUOOIE33> <https://data.coypu.org/lei/95980020140005388236-959800HVWH6DDGWD8P92> <https://data.coypu.org/lei/95980020140005388236-959800XZLA9ZK27STD80> <https://data.coypu.org/lei/95980020140005388430-959800HVWH6DDGWD8P92> <https://data.coypu.org/lei/95980020140005388430-959800XZLA9ZK27STD80> <https://data.coypu.org/lei/95980020140005388527-959800J4HPR6E7WZ4U95> <https://data.coypu.org/lei/95980020140005388624-549300VNJM3DZGTX2121> <https://data.coypu.org/lei/95980020140005388624-95980020140005484557> <https://data.coypu.org/lei/95980020140005388915-959800YQ25SPNEF9LD86> <https://data.coypu.org/lei/95980020140005391437-959800NW6DLQT89M3240> <https://data.coypu.org/lei/95980020140005391534-959800SX9FFCCPMU3U61> <https://data.coypu.org/lei/95980020140005392116-95980020140005636071> <https://data.coypu.org/lei/95980020140005392310-5493002VRBIWUNT90Y53> <https://data.coypu.org/lei/95980020140005392407-959800TVSW6CRNDBKA48> <https://data.coypu.org/lei/95980020140005392504-959800TVSW6CRNDBKA48> <https://data.coypu.org/lei/95980020140005392698-959800TVSW6CRNDBKA48> <https://data.coypu.org/lei/95980020140005392795-959800TVSW6CRNDBKA48> <https://data.coypu.org/lei/95980020140005392989-959800TVSW6CRNDBKA48> }\n",
      "  ?s ?p ?o .\n",
      "  ?s a ?c .\n",
      "} LIMIT 10000\n",
      "2022-11-28 17:22:27,536 - DeTrusty.Wrapper.RDFWrapper - ERROR - Exception while sending request to https://labs.tib.eu/sdm/icews_endpoint/sparql/ - msg: <urlopen error [Errno -3] Temporary failure in name resolution> - query: SELECT DISTINCT ?c WHERE {\n",
      "  VALUES ?o { <https://data.coypu.org/lei/95980020140005381834-95980020140005618514> <https://data.coypu.org/lei/95980020140005381931-95980020140005618514> <https://data.coypu.org/lei/95980020140005384550-95980020140005329260> <https://data.coypu.org/lei/95980020140005384647-95980020140005329260> <https://data.coypu.org/lei/95980020140005384744-95980020140005329260> <https://data.coypu.org/lei/95980020140005384841-95980020140005329260> <https://data.coypu.org/lei/95980020140005385132-95980020140005329260> <https://data.coypu.org/lei/95980020140005385229-95980020140005329260> <https://data.coypu.org/lei/95980020140005385423-95980020140005329260> <https://data.coypu.org/lei/95980020140005385520-959800DZSPB9QATLAR08> <https://data.coypu.org/lei/95980020140005385714-95980020140005329260> <https://data.coypu.org/lei/95980020140005385908-95980020140005287162> <https://data.coypu.org/lei/95980020140005386005-95980020140005329260> <https://data.coypu.org/lei/95980020140005386102-95980020140005329260> <https://data.coypu.org/lei/95980020140005386393-95980020140005329260> <https://data.coypu.org/lei/95980020140005386587-959800DZSPB9QATLAR08> <https://data.coypu.org/lei/95980020140005386781-95980020140005329260> <https://data.coypu.org/lei/95980020140005386878-95980020140005329260> <https://data.coypu.org/lei/95980020140005386975-95980020140005329260> <https://data.coypu.org/lei/95980020140005387072-95980020140005329260> <https://data.coypu.org/lei/95980020140005387169-95980020140005329260> <https://data.coypu.org/lei/95980020140005387266-95980020140005329260> <https://data.coypu.org/lei/95980020140005387363-95980020140005329260> <https://data.coypu.org/lei/95980020140005387460-95980020140005329260> <https://data.coypu.org/lei/95980020140005387557-95980020140005329260> <https://data.coypu.org/lei/95980020140005387654-95980020140005329260> <https://data.coypu.org/lei/95980020140005387751-959800DZSPB9QATLAR08> <https://data.coypu.org/lei/95980020140005387848-549300XJUJHXPUOOIE33> <https://data.coypu.org/lei/95980020140005388236-959800HVWH6DDGWD8P92> <https://data.coypu.org/lei/95980020140005388236-959800XZLA9ZK27STD80> <https://data.coypu.org/lei/95980020140005388430-959800HVWH6DDGWD8P92> <https://data.coypu.org/lei/95980020140005388430-959800XZLA9ZK27STD80> <https://data.coypu.org/lei/95980020140005388527-959800J4HPR6E7WZ4U95> <https://data.coypu.org/lei/95980020140005388624-549300VNJM3DZGTX2121> <https://data.coypu.org/lei/95980020140005388624-95980020140005484557> <https://data.coypu.org/lei/95980020140005388915-959800YQ25SPNEF9LD86> <https://data.coypu.org/lei/95980020140005391437-959800NW6DLQT89M3240> <https://data.coypu.org/lei/95980020140005391534-959800SX9FFCCPMU3U61> <https://data.coypu.org/lei/95980020140005392116-95980020140005636071> <https://data.coypu.org/lei/95980020140005392310-5493002VRBIWUNT90Y53> <https://data.coypu.org/lei/95980020140005392407-959800TVSW6CRNDBKA48> <https://data.coypu.org/lei/95980020140005392504-959800TVSW6CRNDBKA48> <https://data.coypu.org/lei/95980020140005392698-959800TVSW6CRNDBKA48> <https://data.coypu.org/lei/95980020140005392795-959800TVSW6CRNDBKA48> <https://data.coypu.org/lei/95980020140005392989-959800TVSW6CRNDBKA48> }\n",
      "  ?s ?p ?o .\n",
      "  ?s a ?c .\n",
      "} LIMIT 10000\n"
     ]
    }
   ],
   "source": [
    "# create rdfmts\n",
    "from DeTrusty import run_query\n",
    "from DeTrusty.Molecule.MTCreation import create_rdfmts\n",
    "from DeTrusty.Molecule.MTManager import ConfigFile\n",
    "\n",
    "endpoints = dictfrmjson('../configs/endpoints_public.json')\n",
    "print(endpoints)\n",
    "# log_rdf = create_rdfmts(endpoints, '../configs/rdfmts.json')\n",
    "\n",
    "log_rdf = create_rdfmts(endpoints, '../configs/rdfmts_public.json')\n",
    "# if already rdfmts has been created \n",
    "#config = ConfigFile('../configs/rdfmts_backup.json')\n"
   ]
  },
  {
   "cell_type": "code",
   "execution_count": null,
   "id": "c87047ac-b265-460a-a20d-2b917e3fa4fd",
   "metadata": {},
   "outputs": [],
   "source": [
    "# cmemc_request = SPARQLRequest(client_url_imp, client_id_imp, client_secret_imp , 'oauth')\n",
    "\n",
    "skynet_request = SPARQLRequest(skynet_endpoint, skynet_user, skynet_pass, 'basic')\n",
    "\n",
    "# fdquery_request = SPARQLRequest(\"http://localhost:5002/sparql\", is_fdq=True) for docker\n",
    "\n",
    "# otherwise\n",
    "\n",
    "run_query(query_1_fdq, config=config, join_stars_locally=False)\n"
   ]
  },
  {
   "cell_type": "code",
   "execution_count": null,
   "id": "6edd89ff",
   "metadata": {},
   "outputs": [],
   "source": [
    "# Executing test query on Skynet server\n",
    "print(query_0)\n",
    "skynet_request.execute(query_0)\n",
    "buf = StringIO(skynet_request.response.content.decode('utf-8'), newline='\\r\\n')          \n",
    "pd.read_csv(buf, encoding='utf-8')"
   ]
  },
  {
   "cell_type": "code",
   "execution_count": null,
   "id": "9e47c410-b348-4c1e-90cf-2abcd0aeef98",
   "metadata": {},
   "outputs": [],
   "source": [
    "print(query_1_fdq_desc)\n",
    "print(query_1_fdq)\n",
    "print('########################### EXAMPLE ##########################\\n{}'.format(query_1_fdq_ex))\n",
    "fdquery.post_query(query_1_fdq_ex)\n",
    "fdquery.to_save('../../query_results/', filename='query_1_fdq_ex')"
   ]
  },
  {
   "cell_type": "code",
   "execution_count": null,
   "id": "0750d006-d504-4e2a-9d20-759f16e9137a",
   "metadata": {},
   "outputs": [],
   "source": [
    "query_1_fdq"
   ]
  },
  {
   "cell_type": "code",
   "execution_count": null,
   "id": "11678928-c669-4d72-996a-af3e0c0723bf",
   "metadata": {},
   "outputs": [],
   "source": [
    "from sqlalchemy import create_engine\n",
    "\n",
    "engine = create_engine(\n",
    "        \"mysql+pymysql://{user}:{pw}@{hostname}:{portno}/{db}\".format(\n",
    "            hostname=host, db=dbname, user=uname, pw=pwd, portno=port\n",
    "        ),)\n",
    "\n",
    "df = pd.read_csv('../../query_results/query_1_fdq_ex.csv', encoding='utf-8')\n",
    "df.rename(columns=lambda x: x.replace('.value', ''), inplace=True)\n",
    "try:\n",
    "    df.to_sql('query_1_fdq_ex', con=engine, if_exists='fail', index=False)\n",
    "except Exception as e:\n",
    "    print('Exeception: {}',e)"
   ]
  },
  {
   "cell_type": "code",
   "execution_count": null,
   "id": "6cc78219-5839-4489-840b-5011adf46853",
   "metadata": {},
   "outputs": [],
   "source": [
    "from sqlalchemy import create_engine\n",
    "\n",
    "engine = create_engine(\n",
    "        \"mysql+pymysql://{user}:{pw}@{hostname}:{portno}/{db}\".format(\n",
    "            hostname=host, db=dbname, user=uname, pw=pwd, portno=port\n",
    "        ),)\n",
    "\n",
    "query_1_fdq_ex_sql = \"\"\"SELECT country_code, year, AVG(value) as carbon_emission, COUNT(disaster) AS no_of_disasters\n",
    "FROM `query_1_fdq_ex`\n",
    "WHERE year=year_dis\n",
    "GROUP By country_code, year\n",
    "Order By  year ASC\n",
    "\"\"\"\n",
    "\n",
    "df = pd.read_sql(query_1_fdq_ex_sql, con=engine)\n",
    "\n",
    "df.to_csv('../../query_results/query_1_fdq_ex_sql.csv', encoding='utf-8', index=False)"
   ]
  },
  {
   "cell_type": "code",
   "execution_count": null,
   "id": "ab400c3f-c92b-4b6e-b051-ef5530f75ddc",
   "metadata": {},
   "outputs": [],
   "source": [
    "def carbon_emission_group(carbon_emission):\n",
    "    if carbon_emission/1000000 < 0.25:\n",
    "        return '0.00-0.25'\n",
    "    elif carbon_emission/1000000 >= 0.25 and carbon_emission/1000000 < 0.5:\n",
    "        return '0.25-0.5'\n",
    "    elif carbon_emission/1000000 >= 0.5 and carbon_emission/1000000 < 0.75:\n",
    "        return '0.50-0.75'\n",
    "    else:\n",
    "        return '> 0.75'\n",
    "    \n",
    "\n",
    "df = pd.read_csv('../../query_results/query_1_fdq_ex_sql.csv', encoding='utf-8')\n",
    "df['carbon_emission(1e6)'] = df['carbon_emission'].apply(carbon_emission_group)\n",
    "\n",
    "df.head(10)"
   ]
  },
  {
   "cell_type": "code",
   "execution_count": null,
   "id": "815e669d-34f1-4637-ab70-427021f4e240",
   "metadata": {},
   "outputs": [],
   "source": [
    "\n",
    "fig = px.scatter_geo(df, locations=\"country_code\", color=\"carbon_emission(1e6)\",\n",
    "                     hover_data=['carbon_emission'], size=\"no_of_disasters\",\n",
    "                     animation_frame=\"year\",\n",
    "                     projection=\"equirectangular\", scope='europe')\n",
    "fig.update_layout(title_text='Carbon emission and the number of disaster events for various countries across years',\\\n",
    "                  title_font_color=\"red\", title_font_family=\"Times New Roman\", title_font_size=25)\n",
    "fig.write_html('../../query_results/query_1_fdq_ex_sql_new.html')\n",
    "fig.show()"
   ]
  },
  {
   "cell_type": "code",
   "execution_count": null,
   "id": "92c4bf74-2811-4aa6-8f74-f2e39fedf608",
   "metadata": {},
   "outputs": [],
   "source": []
  }
 ],
 "metadata": {
  "kernelspec": {
   "display_name": "Python 3 (ipykernel)",
   "language": "python",
   "name": "python3"
  },
  "language_info": {
   "codemirror_mode": {
    "name": "ipython",
    "version": 3
   },
   "file_extension": ".py",
   "mimetype": "text/x-python",
   "name": "python",
   "nbconvert_exporter": "python",
   "pygments_lexer": "ipython3",
   "version": "3.10.8"
  },
  "vscode": {
   "interpreter": {
    "hash": "1f01d2debc0dab2131111cf4fcc295bf8655e407cc17f23f4d91786b78fe5ca1"
   }
  }
 },
 "nbformat": 4,
 "nbformat_minor": 5
}
