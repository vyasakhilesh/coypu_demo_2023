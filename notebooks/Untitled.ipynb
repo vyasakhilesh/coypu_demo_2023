{
 "cells": [
  {
   "cell_type": "markdown",
   "id": "d1ea6982-b1cc-4f51-9780-9eff9a7197e8",
   "metadata": {},
   "source": [
    "# [SDM-RDFizer](https://github.com/SDM-TIB/SDM-RDFizer)\n",
    "**An interpreter of mapping rules (defined in `RDF Mapping Language (RML)` ) that allows the transformation of (un)structured data into RDF knowledge graphs. It provides efficient RML triple map execution for Big data. SDM-RDFizer supports (`CSV, JSON, RDB, XML`).**\n",
    "\n",
    "Step to create `Knowledge Graph` using SDM-Rdfizer:\n",
    "* Create [Mapping](https://rml.io/specs/rml/) (e.g. [Local-ICEWS](../../mappings/icews/icews.ttl) mapping file)  and [Config](https://github.com/SDM-TIB/SDM-RDFizer/wiki/The-Parameters-of-the-Configuration-file) (e.g [Local-Config](../../configs/config.ini) file) files\n",
    "* [Install and Run SDM-Rdfizer](https://github.com/SDM-TIB/SDM-RDFizer/wiki/Install&Run) \n",
    "* Sematify data using `rdfizer.semantify`"
   ]
  },
  {
   "cell_type": "markdown",
   "id": "9bfce234-9717-4ec7-a699-747081901d84",
   "metadata": {},
   "source": [
    "# [Federated Query Engine (DeTrusty)](https://github.com/SDM-TIB/DeTrusty)\n",
    "**A federated query engine**\n",
    "\n",
    "Step to run Detruty against the federation of `Knowledge Graphs`:\n",
    "* Create `Dict` or `List` of endpoints for federation \n",
    "* [Install and Run](https://github.com/SDM-TIB/DeTrusty)\n",
    "* Create [RDF Molecule Template](../../configs/rdfmts_public.json)\n",
    "* Run query using `Detrusty.run_query`"
   ]
  },
  {
   "cell_type": "code",
   "execution_count": null,
   "id": "7333defa-b6dd-445e-bf98-b814261ac197",
   "metadata": {},
   "outputs": [],
   "source": []
  }
 ],
 "metadata": {
  "kernelspec": {
   "display_name": "Python 3 (ipykernel)",
   "language": "python",
   "name": "python3"
  },
  "language_info": {
   "codemirror_mode": {
    "name": "ipython",
    "version": 3
   },
   "file_extension": ".py",
   "mimetype": "text/x-python",
   "name": "python",
   "nbconvert_exporter": "python",
   "pygments_lexer": "ipython3",
   "version": "3.10.8"
  }
 },
 "nbformat": 4,
 "nbformat_minor": 5
}
